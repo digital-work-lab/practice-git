{
 "cells": [
  {
   "cell_type": "markdown",
   "id": "0ff7b136",
   "metadata": {},
   "source": [
    "# Exercise notebook: Git merging\n",
    "\n",
    "[![Offered at: Otto-Friedrich-Universität Bamberg](https://img.shields.io/badge/Offered%20by-the%20Digital%20Work%20Lab%20(Otto--Friedrich--Universit%C3%A4t%20Bamberg)-blue)](https://digital-work-lab.github.io/open-source-project/)\n",
    "![License: CC BY 4.0](https://img.shields.io/badge/License-CC%20BY%204.0-green.svg)\n",
    "\n",
    "<img src=\"img/iconmonstr-certificate-6.svg\" alt=\"Edit\" width=\"16\" height=\"16\">  The notebook builds on our peer-reviewed <a href=\"iconmonstr-certificate-6.svg\">pedagogical foundations</a>.\n",
    "\n",
    "We  <img src=\"img/iconmonstr-favorite-2.svg\" alt=\"Edit\" width=\"12\" height=\"12\">  your <a href=\"https://github.com/digital-work-lab/practice-git/issues/new/choose\" target=\"_blank\">feedback</a> and <a href=\"https://github.com/digital-work-lab/practice-git/edit/main/notebooks/git_committing.ipynb\" target=\"_blank\">suggestions</a> on this notebook!\n",
    "\n",
    "---"
   ]
  },
  {
   "cell_type": "markdown",
   "id": "a8a20b4e",
   "metadata": {},
   "source": [
    "With this notebook, you can practice merging and resolving merge conflicts.\n",
    "\n",
    "| Task | Label                                           | Time (min) |\n",
    "|------|-------------------------------------------------|------------|\n",
    "|  1   | [A simple merge conflict](#task-1)              | 20         |\n",
    "|  2   | [A more realistic merge conflict](#task-2)      | 30         |\n",
    "|  3   | [Quizzes](#task-3)                              | 10         |\n",
    "|      | Overall                                         | 60         |\n",
    "\n",
    "<img src=\"img/iconmonstr-help-6.svg\" alt=\"Edit\" width=\"12\" height=\"12\"> We are here to help if errors or questions come up!\n",
    "\n",
    "<br>\n",
    "\n",
    "---"
   ]
  },
  {
   "cell_type": "markdown",
   "id": "df3855cd",
   "metadata": {},
   "source": [
    "<div style=\"border: 2px solid #ff9800; padding: 10px; background-color: #ffe0b2; color: #e65100; border-radius: 5px; display: inline-block; width: fit-content;\">\n",
    "    <strong>Important:</strong> Make sure to copy the commands and enter them in the shell as shown in the screenshot. It is not possible to run the cells in this notebook.\n",
    "</div>\n",
    "\n",
    "<div style=\"clear: both;\"></div>\n",
    "\n",
    "<img src=\"img/codespace-shell.png\" width=\"800\"/>"
   ]
  },
  {
   "cell_type": "markdown",
   "id": "06291aa5",
   "metadata": {},
   "source": [
    "<p style=\"max-width: 800px; margin-left: 0; margin-right: 0;\">Git is highly efficient in creating branches and merging them. This is a useful property for software development projects in which programmers implement different features, fix bugs, and refactor the codebase. These changes are typically implemented in separate branches, which are not affected by coding activities in other parts of the codebase (other branches). When developers decide that the work from their branch should be integrated into a target branch (often the main branch), the `git merge other_branch_name` command starts the merge operation. In this operation, Git uses heuristics to determine whether the changes in both branches are compatible. When developers have changed unrelated parts of the codebase, the branches are merged automatically.</p>\n",
    "\n",
    "<p style=\"max-width: 800px; margin-left: 0; margin-right: 0;\">However, if the branches introduce changes to the same parts of the codebase, there is no simple rule to decide which change is kept and which is discarded. In this case, Git creates a <b>merge conflict</b>, indicating that the user has to indicate which changes should be retained.</p>"
   ]
  },
  {
   "cell_type": "markdown",
   "id": "385a3c53",
   "metadata": {},
   "source": [
    "## Task 1: Resolving a simple merge conflict <a id=\"task-1\"></a>\n",
    "\n",
    "To create and resolve a merge conflict in a simple hello-world project, run the following commands in the (GitHub Codespace) shell below:\n",
    "\n",
    "<div style=\"border: 2px solid #03a9f4; padding: 10px; background-color: #b3e5fc; color: #01579b; border-radius: 5px; display: inline-block; width: fit-content;\">\n",
    "    <strong>Info</strong> The last command will reopen the codespace window and add the new project to the sidebar. You will have to navigate to this notebook again.\n",
    "</div>"
   ]
  },
  {
   "cell_type": "code",
   "execution_count": null,
   "id": "e164459d",
   "metadata": {},
   "outputs": [],
   "source": [
    "cd ..\n",
    "mkdir project\n",
    "cd project\n",
    "git init\n",
    "echo \"print('hello world')\" > app.py\n",
    "git add app.py\n",
    "git commit -m 'first commit'\n",
    "code -a /workspaces/project"
   ]
  },
  {
   "cell_type": "markdown",
   "metadata": {},
   "source": [
    "At this point, the Python script printing a \"hello world\" statement should be saved in the `app.py` file and included in the first commit."
   ]
  },
  {
   "cell_type": "markdown",
   "id": "45fd231e",
   "metadata": {},
   "source": [
    "We will proceed to create and resolve a merge conflict. Two developers will help us: Linda and Reynold. Each modifies the file to print something different. Let's start with Reynold."
   ]
  },
  {
   "cell_type": "code",
   "execution_count": null,
   "id": "95881679",
   "metadata": {},
   "outputs": [],
   "source": [
    "cd ../project\n",
    "git branch bugfix\n",
    "git switch bugfix\n",
    "echo \"print('hello world. good luck with this shity day and all the rain.')\" > app.py\n",
    "git add app.py\n",
    "git commit -m 'use a more accurate greeting'"
   ]
  },
  {
   "cell_type": "markdown",
   "id": "c107ba8f",
   "metadata": {},
   "source": [
    "Next, let's see Linda's contribution."
   ]
  },
  {
   "cell_type": "code",
   "execution_count": null,
   "id": "e589f227",
   "metadata": {},
   "outputs": [],
   "source": [
    "git switch main\n",
    "echo \"print('hello world. what a beautiful day')\" > app.py\n",
    "git add app.py\n",
    "git commit -m 'include a nice greeting'"
   ]
  },
  {
   "cell_type": "markdown",
   "id": "7957d01c",
   "metadata": {},
   "source": [
    "Given that both have modified the same part of the codebase, we expect a merge conflict."
   ]
  },
  {
   "cell_type": "code",
   "execution_count": null,
   "id": "ddcafef6",
   "metadata": {},
   "outputs": [],
   "source": [
    "git merge bugfix"
   ]
  },
  {
   "cell_type": "markdown",
   "id": "d04c64a3",
   "metadata": {},
   "source": [
    "Git should now print the following:"
   ]
  },
  {
   "cell_type": "code",
   "execution_count": null,
   "id": "324eb2f3",
   "metadata": {},
   "outputs": [],
   "source": [
    "Auto-merging app.py\n",
    "CONFLICT (add/add): Merge conflict in app.py\n",
    "Automatic merge failed; fix conflicts and then commit the result."
   ]
  },
  {
   "cell_type": "markdown",
   "id": "bb1db32e",
   "metadata": {},
   "source": [
    "To analyze and resolve the conflict, open the `app.py` file (VisualStudio highlights files with merge conflicts in red). It should highlight the conflicting part as follows:\n",
    "\n",
    "```text\n",
    "\n",
    "If you have questions, please\n",
    "<<<<<<< HEAD\n",
    "open an issue\n",
    "=======\n",
    "ask your question in IRC.\n",
    ">>>>>>> branch-a\n",
    "```"
   ]
  },
  {
   "cell_type": "markdown",
   "id": "986fd402",
   "metadata": {},
   "source": [
    "TASK: To resolve the conflict, select the code parts that should be retained. Remove the surrounding conflict markers. Once completed, complete the merge."
   ]
  },
  {
   "cell_type": "code",
   "execution_count": null,
   "id": "3a5bce96",
   "metadata": {},
   "outputs": [],
   "source": [
    "git add app.py\n",
    "git commit"
   ]
  },
  {
   "cell_type": "markdown",
   "id": "a30e798d",
   "metadata": {},
   "source": [
    "To complete the commit, simply close the commit message.\n",
    "\n",
    "If you navigate to the \"Quellcodeverwaltung\" on the left, you should see the Git graph and the merge commit on the lower left panel.\n",
    "\n",
    "🎉🎈 With these commands, you have solved the first merge conflict! 🎈🎉"
   ]
  },
  {
   "cell_type": "markdown",
   "id": "18f6a83d",
   "metadata": {},
   "source": [
    "# Task 2: Resolving a more realistic merge conflict  <a id=\"task-2\"></a>\n",
    "\n",
    "For this task, we focus on a project where Lisa and Ted work on a Python module for a comand-line application. Lisa works on a separate branch and changes `print()` statements to `logging.info()`. In parallel, Ted introduces changes to the `COLORS` variable on main. Both changes affect the same module and even the same lines of code. Let's see how the conflict unfolds and how we can resolve it."
   ]
  },
  {
   "cell_type": "code",
   "execution_count": null,
   "id": "a990f166",
   "metadata": {},
   "outputs": [],
   "source": [
    "cd ..\n",
    "git clone https://github.com/CoLRev-Environment/colrev\n",
    "# As you already know, the following will restart your Codespace\n",
    "code -a /workspaces/colrev\n",
    "\n",
    "cd ../colrev\n",
    "# Next, we make sure that we always start from the same commit\n",
    "git reset --hard d4b15c1783b48c6a8df04fec165d828709d69b9e\n",
    "\n",
    "# Apply Lisa's changes\n",
    "git branch logger\n",
    "git switch logger\n",
    "git apply ../practice-git/notebooks/use-logger.patch"
   ]
  },
  {
   "cell_type": "markdown",
   "id": "d470be4e",
   "metadata": {},
   "source": [
    "Tasks:\n",
    "\n",
    "- Analyze the changes using the Git GUI\n",
    "- Commit the changes using an informative commit message"
   ]
  },
  {
   "cell_type": "code",
   "execution_count": null,
   "id": "d0ce2410",
   "metadata": {},
   "outputs": [],
   "source": [
    "# We go back to the main branch and apply another patch\n",
    "git switch main\n",
    "# Apply Ted's changes\n",
    "git apply ../practice-git/notebooks/replace-color-import.patch"
   ]
  },
  {
   "cell_type": "markdown",
   "id": "f5208e02",
   "metadata": {},
   "source": [
    "Tasks:\n",
    "\n",
    "- Analyze the changes using the Git GUI\n",
    "- Commit the changes\n",
    "- Merge the logger branch and resolve the conflict, making sure that the changes of Lisa and Ted are retained correctly"
   ]
  },
  {
   "cell_type": "code",
   "execution_count": null,
   "id": "d5dc2c9d",
   "metadata": {},
   "outputs": [],
   "source": [
    "git merge logger\n",
    "# Resolve merge conflict\n",
    "git status\n",
    "# Once resolved, create a merge commit as advised in the git status"
   ]
  },
  {
   "cell_type": "markdown",
   "id": "314aaa7d",
   "metadata": {},
   "source": [
    "To validate your solution, run the following command to retrieve our solution:"
   ]
  },
  {
   "cell_type": "code",
   "execution_count": null,
   "id": "1a7b722f",
   "metadata": {},
   "outputs": [],
   "source": [
    "cp -f ../practice-git/cli.py colrev/ui_cli/cli.py\n",
    "git status"
   ]
  },
  {
   "cell_type": "markdown",
   "id": "009ab660",
   "metadata": {},
   "source": [
    "Note: for simplicity, we worked in the same repository. But the merge conflict would be identical if the branches were shared in a remote repository. In fact, if GitHub encounters a merge conflict, it suggests that users download the branches and resolve the merge conflict locally (like we just did)."
   ]
  },
  {
   "cell_type": "markdown",
   "id": "29428d7e",
   "metadata": {},
   "source": [
    "# Task 3: Quizzes  <a id=\"task-3\"></a>\n",
    "\n",
    "To complete this notebook, you can work through the following quizzes.\n",
    "\n",
    "*Note: You can select your solutions without running the preceding code.*"
   ]
  },
  {
   "cell_type": "code",
   "execution_count": null,
   "id": "c85d7330",
   "metadata": {
    "jupyter": {
     "source_hidden": true
    }
   },
   "outputs": [],
   "source": [
    "import quizzes\n",
    "quizzes.run(1)"
   ]
  },
  {
   "cell_type": "markdown",
   "id": "247caf88",
   "metadata": {},
   "source": [
    "---\n",
    "\n",
    "# Wrap-up\n",
    "\n",
    "🎉🎈 You have completed the Git merging notebook - good work! 🎈🎉\n",
    "\n",
    "In this notebook, we have learned to\n",
    "\n",
    "- Resolve merge conflicts\n",
    "\n",
    "Remember to delete your codespace [here](https://github.com/codespaces):\n",
    "\n",
    "<img src=\"img/codespace-delete.png\" width=\"800\"/>"
   ]
  }
 ],
 "metadata": {
  "kernelspec": {
   "display_name": "Python 3 (ipykernel)",
   "language": "python",
   "name": "python3"
  },
  "language_info": {
   "codemirror_mode": {
    "name": "ipython",
    "version": 3
   },
   "file_extension": ".py",
   "mimetype": "text/x-python",
   "name": "python",
   "nbconvert_exporter": "python",
   "pygments_lexer": "ipython3",
   "version": "3.9.20"
  }
 },
 "nbformat": 4,
 "nbformat_minor": 5
}
