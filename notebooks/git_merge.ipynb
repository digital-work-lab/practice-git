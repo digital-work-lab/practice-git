{
 "cells": [
  {
   "cell_type": "markdown",
   "id": "0ff7b136",
   "metadata": {},
   "source": [
    "# Git practice: Merge"
   ]
  },
  {
   "cell_type": "markdown",
   "id": "faccbfd6",
   "metadata": {},
   "source": [
    "In a Git project, developers A and B start to work on separate branches main and feature"
   ]
  },
  {
   "cell_type": "code",
   "execution_count": null,
   "id": "aae39c30",
   "metadata": {
    "vscode": {
     "languageId": "plaintext"
    }
   },
   "outputs": [],
   "source": [
    "# developer A works on main (nothing to do because we are currently on main)\n",
    "\n",
    "# developer B starts to work on the feature branch\n",
    "git checkout -b feature\n",
    "\n",
    "# developer B makes some changes\n",
    "echo \"feature\" > feature.txt\n",
    "git add feature.txt\n",
    "git commit -m \"Add feature\"\n"
   ]
  },
  {
   "cell_type": "markdown",
   "id": "c38910c4",
   "metadata": {},
   "source": [
    "Use gitk to inspect the changes of developer A on the feature branch."
   ]
  },
  {
   "cell_type": "code",
   "execution_count": null,
   "id": "b9859aac",
   "metadata": {
    "vscode": {
     "languageId": "plaintext"
    }
   },
   "outputs": [],
   "source": []
  },
  {
   "cell_type": "markdown",
   "id": "b3816011",
   "metadata": {},
   "source": [
    "create changes on main\n",
    "merge\n",
    "\n",
    "explain merge conflict (git printout on the cli)\n",
    "explain the conflict markers and how to resolve them\n",
    "\n",
    "practical resolution and commit\n",
    "\n",
    "check: content of the conflicting file and state of the DAG"
   ]
  },
  {
   "cell_type": "markdown",
   "id": "a264aca6",
   "metadata": {},
   "source": [
    "# TODO : add a more complex example with the colrev history"
   ]
  }
 ],
 "metadata": {
  "kernelspec": {
   "display_name": "Python 3 (ipykernel)",
   "language": "python",
   "name": "python3"
  },
  "language_info": {
   "codemirror_mode": {
    "name": "ipython",
    "version": 3
   },
   "file_extension": ".py",
   "mimetype": "text/x-python",
   "name": "python",
   "nbconvert_exporter": "python",
   "pygments_lexer": "ipython3",
   "version": "3.8.10"
  }
 },
 "nbformat": 4,
 "nbformat_minor": 5
}
