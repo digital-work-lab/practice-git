{
 "cells": [
  {
   "cell_type": "markdown",
   "id": "0ff7b136",
   "metadata": {},
   "source": [
    "# Git practice: Merge"
   ]
  },
  {
   "cell_type": "markdown",
   "id": "a8a20b4e",
   "metadata": {},
   "source": [
    "Git is highly efficient in creating branches and merging them. This is a useful property for software development projects in which programmers implement different features, fix bugs, and refactor the codebase. These changes are typically implemented in separate branches, which are not affected by coding activities in other parts of the codebase (other branches). When developers decide that the work from their branch should be integrated into a target branch (often the main branch), the `git merge other_branch_name` command starts the merge operation. In this operation, Git uses heuristics to determine whether the changes in both branches are compatible. When developers have changed unrelated parts of the codebase, the branches are merged automatically.\n",
    "\n",
    "However, if the branches introduce changes to the same parts of the codebase, there is no simple rule to decide which change is kept and which is discarded. In this case, Git creates a **merge conflict**, indicating that the user has to indicate which changes should be retained.\n",
    "\n",
    "<div style=\"border: 2px solid #ff9800; padding: 10px; background-color: #ffe0b2; color: #e65100; border-radius: 5px; display: inline-block; width: fit-content;\">\n",
    "    <strong>Warning:</strong> It is important to copy the commands and enter them in the shell as shown in the screenshot. It is not possible to run the cells in this notebook.\n",
    "</div>"
   ]
  },
  {
   "cell_type": "markdown",
   "id": "385a3c53",
   "metadata": {},
   "source": [
    "## Practice: Resolving a simple merge conflict\n",
    "\n",
    "To create and resolve a merge conflict in a simple hello-world project, run the following commands in the (GitHub Codespace) shell below:\n",
    "\n",
    "<div style=\"border: 2px solid #03a9f4; padding: 10px; background-color: #b3e5fc; color: #01579b; border-radius: 5px; display: inline-block; width: fit-content;\">\n",
    "    <strong>Info</strong> The last command will reopen the codespace window and add the new project to the sidebar. You will have to navigate to this notebook again.\n",
    "</div>"
   ]
  },
  {
   "cell_type": "code",
   "execution_count": null,
   "id": "e164459d",
   "metadata": {
    "vscode": {
     "languageId": "plaintext"
    }
   },
   "outputs": [],
   "source": [
    "cd ..\n",
    "mkdir project\n",
    "cd project\n",
    "git init\n",
    "echo \"print('hello world')\" > app.py\n",
    "git add app.py\n",
    "git commit -m 'first commit'\n",
    "code -a /workspaces/project"
   ]
  },
  {
   "cell_type": "markdown",
   "metadata": {},
   "source": [
    "At this point, the Python script printing a \"hello world\" statement should be saved in the `app.py` file and included in the first commit."
   ]
  },
  {
   "cell_type": "markdown",
   "id": "45fd231e",
   "metadata": {},
   "source": [
    "We will proceed to create and resolve a merge conflict. Two developers will help us: Linda and Reynold. Each modifies the file to print something different. Let's start with Reynold."
   ]
  },
  {
   "cell_type": "code",
   "execution_count": null,
   "id": "95881679",
   "metadata": {
    "vscode": {
     "languageId": "plaintext"
    }
   },
   "outputs": [],
   "source": [
    "cd ../project\n",
    "git branch bugfix\n",
    "git switch bugfix\n",
    "echo \"print('hello world. good luck with this shity day and all the rain.')\" > app.py\n",
    "git add app.py\n",
    "git commit -m 'use a more accurate greeting'"
   ]
  },
  {
   "cell_type": "markdown",
   "id": "c107ba8f",
   "metadata": {},
   "source": [
    "Next, let's see Linda's contribution."
   ]
  },
  {
   "cell_type": "code",
   "execution_count": null,
   "id": "e589f227",
   "metadata": {
    "vscode": {
     "languageId": "plaintext"
    }
   },
   "outputs": [],
   "source": [
    "git switch main\n",
    "echo \"print('hello world. what a beautiful day')\" > app.py\n",
    "git add app.py\n",
    "git commit -m 'include a nice greeting'"
   ]
  },
  {
   "cell_type": "markdown",
   "id": "7957d01c",
   "metadata": {},
   "source": [
    "Given that both have modified the same part of the codebase, we expect a merge conflict."
   ]
  },
  {
   "cell_type": "code",
   "execution_count": null,
   "id": "ddcafef6",
   "metadata": {
    "vscode": {
     "languageId": "plaintext"
    }
   },
   "outputs": [],
   "source": [
    "git merge bugfix"
   ]
  },
  {
   "cell_type": "markdown",
   "id": "d04c64a3",
   "metadata": {},
   "source": [
    "Git should now print the following:"
   ]
  },
  {
   "cell_type": "code",
   "execution_count": null,
   "id": "324eb2f3",
   "metadata": {
    "vscode": {
     "languageId": "plaintext"
    }
   },
   "outputs": [],
   "source": [
    "Auto-merging app.py\n",
    "CONFLICT (add/add): Merge conflict in app.py\n",
    "Automatic merge failed; fix conflicts and then commit the result."
   ]
  },
  {
   "cell_type": "markdown",
   "id": "bb1db32e",
   "metadata": {},
   "source": [
    "To analyze and resolve the conflict, open the `app.py` file (VisualStudio highlights files with merge conflicts in red). It should highlight the conflicting part as follows:\n",
    "\n",
    "```\n",
    "\n",
    "If you have questions, please\n",
    "<<<<<<< HEAD\n",
    "open an issue\n",
    "=======\n",
    "ask your question in IRC.\n",
    ">>>>>>> branch-a\n",
    "```"
   ]
  },
  {
   "cell_type": "markdown",
   "id": "986fd402",
   "metadata": {},
   "source": [
    "TASK: To resolve the conflict, select the code parts that should be retained. Remove the surrounding conflict markers. Once completed, complete the merge."
   ]
  },
  {
   "cell_type": "code",
   "execution_count": null,
   "id": "3a5bce96",
   "metadata": {
    "vscode": {
     "languageId": "plaintext"
    }
   },
   "outputs": [],
   "source": [
    "git add app.py\n",
    "git commit"
   ]
  },
  {
   "cell_type": "markdown",
   "id": "a30e798d",
   "metadata": {},
   "source": [
    "To complete the commit, simply close the commit message.\n",
    "\n",
    "If you navigate to the \"Quellcodeverwaltung\" on the left, you should see the Git graph and the merge commit on the lower left panel."
   ]
  },
  {
   "cell_type": "markdown",
   "id": "009ab660",
   "metadata": {},
   "source": [
    "Note: for simplicity, we worked in the same repository. But the merge conflict would be identical if Linda and Reynold shared their work in a remote repository and attempted to merge them. In fact, if GitHub encounters a merge conflict, it suggests that users download the branches and resolve the merge conflict locally (like we just did)."
   ]
  },
  {
   "cell_type": "markdown",
   "id": "a264aca6",
   "metadata": {},
   "source": [
    "# TODO : \n",
    "\n",
    "- add a details/solution explaining the code\n",
    "- include illustration of branches and changes + explain markers (at the beginning)\n",
    "- start with non-conflict merges?? (have students check/analyze the DAG)\n",
    "- add a more complex example with the colrev history"
   ]
  }
 ],
 "metadata": {
  "kernelspec": {
   "display_name": "Python 3 (ipykernel)",
   "language": "python",
   "name": "python3"
  },
  "language_info": {
   "codemirror_mode": {
    "name": "ipython",
    "version": 3
   },
   "file_extension": ".py",
   "mimetype": "text/x-python",
   "name": "python",
   "nbconvert_exporter": "python",
   "pygments_lexer": "ipython3",
   "version": "3.8.10"
  }
 },
 "nbformat": 4,
 "nbformat_minor": 5
}
