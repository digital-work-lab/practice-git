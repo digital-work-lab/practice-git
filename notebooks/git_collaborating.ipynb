{
 "cells": [
  {
   "cell_type": "markdown",
   "id": "0ff7b136",
   "metadata": {},
   "source": [
    "# Exercise notebook: Git collaborating\n",
    "\n",
    "[![Offered at: Otto-Friedrich-Universität Bamberg](https://img.shields.io/badge/Offered%20by-the%20Digital%20Work%20Lab%20(Otto--Friedrich--Universit%C3%A4t%20Bamberg)-blue)](https://digital-work-lab.github.io/open-source-project/)\n",
    "![License: CC BY 4.0](https://img.shields.io/badge/License-CC%20BY%204.0-green.svg)\n",
    "\n",
    "<img src=\"img/iconmonstr-certificate-6.svg\" alt=\"Edit\" width=\"16\" height=\"16\">  The notebook builds on our peer-reviewed <a href=\"iconmonstr-certificate-6.svg\">pedagogical foundations</a>.\n",
    "\n",
    "We  <img src=\"img/iconmonstr-favorite-2.svg\" alt=\"Edit\" width=\"12\" height=\"12\">  your <a href=\"https://github.com/digital-work-lab/practice-git/issues/new/choose\" target=\"_blank\">feedback</a> and <a href=\"https://github.com/digital-work-lab/practice-git/edit/main/notebooks/git_merge_conflicts.ipynb\" target=\"_blank\">suggestions</a> on this notebook!\n",
    "\n",
    "---"
   ]
  },
  {
   "cell_type": "markdown",
   "id": "a8a20b4e",
   "metadata": {},
   "source": [
    "<div style=\"border-left: 4px solid #026e57; background-color: #d0f0e4; padding: 15px; margin: 10px 0; color: #026e57; border-radius: 5px; width:800px;\">\n",
    "    <strong>Concepts: Git collaborating</strong> <br><br>The slides explaining Git collaborating are <a href=\"https://digital-work-lab.github.io/open-source-project/output/02-git.html#18\" target=\"_blank\">here</a>.\n",
    "</div>\n",
    "\n",
    "<br>\n",
    "\n",
    "<br>\n",
    "\n",
    "With this notebook, we practice collaborating with Git in small groups.\n",
    "\n",
    "| Practice | Label                                                   | Time (min) |\n",
    "|----------|---------------------------------------------------------|------------|\n",
    "|  1       | [Work in a shared repository](#simple)                  |  5         |\n",
    "|  2       | [Work in a fork](#fork)                                 | 13         |\n",
    "|  3       | [Wrap-up](#wrap-up)                                     |  2         |\n",
    "|          | Overall                                                 | 20         |\n",
    "\n",
    "<img src=\"img/iconmonstr-help-6.svg\" alt=\"Edit\" width=\"12\" height=\"12\"> We are here to help if errors or questions come up!\n",
    "\n",
    "<br>\n",
    "\n",
    "---"
   ]
  },
  {
   "cell_type": "markdown",
   "id": "385a3c53",
   "metadata": {},
   "source": [
    "## Part 1: Work in a shared repository <a id=\"simple\"></a>\n",
    "\n",
    "In the first part, we will create a simple **shared repository** setup. Every team member will have access to the same repository, committing directly to `main`, or creating branches and pull-requests.\n",
    "We will not download the repository, but [edit the files directly on GitHub](https://docs.github.com/en/repositories/working-with-files/managing-files/editing-files) instead.\n",
    "\n",
    "**Task**: Select one **maintainer**, who creates a new remote repository on [GitHub](https://docs.github.com/en/repositories/creating-and-managing-repositories/creating-a-new-repository) and [invites](https://docs.github.com/en/issues/planning-and-tracking-with-projects/managing-your-project/managing-access-to-your-projects) the other team members as contributors. You can work on a public or private repository. In addition, the maintainer creates a `README.md` file, chosing a project name and creating a contributor section similar to the following:\n",
    "\n",
    "<h2 style=\"margin-bottom: 3px; font-family: monospace; font-size: 1em;\">README.md</h2>\n",
    "\n",
    "<div style=\"border: 2px solid white; padding: 20px; color: black; max-width: 600px; text-align: left; background-color: #eee; font-family: monospace;\">\n",
    "  <h1 style=\"margin: 0 0 20px; font-size: 1.2em; color: black;\"># TeamPlay - An Instructive Prototype</h1>\n",
    "\n",
    "  <h2 style=\"margin: 0 0 20px; font-size: 1.1em; color: black;\">## Contributors</h2>\n",
    "\n",
    "  <p style=\"margin: 10px 0; color: black;\">Anna Maintainer</p>\n",
    "</div>\n",
    "\n",
    "\n",
    "**Task**: Next, each team member edits the `README.md` directly on GitHub (on the **main** branch), adding her/his name.\n",
    "\n",
    "After creating the `README.md`, the team decides to add more contents, working in parallel branches, and using pull-requests to discuss and integrate the changes.\n",
    "\n",
    "**Task Contributor A**: Create a branch `license`, adding the [MIT License](https://choosealicense.com/licenses/mit/) in a file named `LICENCSE`.\n",
    "\n",
    "**Task Contributor B**: Create a branch `contributing`, adding the [contributing guidelines](https://github.com/CoLRev-Environment/colrev/blob/main/CONTRIBUTING.md) in a file named `CONTRIBUTING.md`.\n",
    "\n",
    "**Task Contributor C**: Create a branch `code_of_conduct`, adding the [code of conduct](https://github.com/CoLRev-Environment/colrev/blob/main/CODE_OF_CONDUCT.md) in a file named `CODE_OF_CONDUCT.md`.\n",
    "\n",
    "Afterwards, each contributor opens a pull-request to integrate the changes. Review each other's changes, add a commend to confirm whehter the changes are adequate and merge them using the rebase option."
   ]
  },
  {
   "cell_type": "markdown",
   "id": "ddfe074f",
   "metadata": {},
   "source": [
    "Form small groups of 3-5 students and solve the following tasks together. "
   ]
  },
  {
   "cell_type": "markdown",
   "id": "18f6a83d",
   "metadata": {},
   "source": [
    "## Part 2: Work in a fork <a id=\"fork\"></a>\n",
    "\n",
    "<p style=\"max-width: 800px; margin-left: 0; margin-right: 0; text-align: justify; width: 800px;\">In this part, we work with a fork of an existing project.\n",
    "</p>\n",
    "\n",
    "- Maintainer forks [CoLRev](https://github.com/CoLRev-Environment/colrev) and invites contributors\n",
    "- Contributors open the project in Codespaces (effectively cloning the remote repository) and implement changes on branches.\n",
    "- Contributors push changes to branches and open pull request to fork\n",
    "- Maintainer merges to fork\n",
    "- Contributors synchronize on their codespace (main branch)\n",
    "- Maintainer opens (and closes) pull request to colrev.\n",
    "\n",
    "<!--\n",
    "<div style=\"border: 2px solid #03a9f4; padding: 10px; background-color: #b3e5fc; color: #01579b; border-radius: 5px; display: inline-block; width: fit-content;  width: 800px;\">\n",
    "    <strong>Info</strong> The last command will reopen the codespace window and add the new project to the explorer sidebar. You will have to navigate to this notebook again.\n",
    "</div>\n",
    "-->\n"
   ]
  },
  {
   "cell_type": "markdown",
   "id": "247caf88",
   "metadata": {},
   "source": [
    "## Wrap-up <a id=\"wrap-up\"></a>\n",
    "\n",
    "🎉🎈 You have completed the Git collaborating notebook - good work! 🎈🎉\n",
    "\n",
    "In this notebook, we have learned about\n",
    "\n",
    "- The role of remote repositories and forks\n",
    "- The synchronization using `git pull`, `git push`, and **pull requests**\n",
    "- The different permissions when working in a shared repository or contributing through forks."
   ]
  }
 ],
 "metadata": {
  "kernelspec": {
   "display_name": "Python 3 (ipykernel)",
   "language": "python",
   "name": "python3"
  },
  "language_info": {
   "codemirror_mode": {
    "name": "ipython",
    "version": 3
   },
   "file_extension": ".py",
   "mimetype": "text/x-python",
   "name": "python",
   "nbconvert_exporter": "python",
   "pygments_lexer": "ipython3",
   "version": "3.9.20"
  }
 },
 "nbformat": 4,
 "nbformat_minor": 5
}
