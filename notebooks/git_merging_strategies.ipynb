{
 "cells": [
  {
   "cell_type": "markdown",
   "id": "0ff7b136",
   "metadata": {},
   "source": [
    "# Exercise notebook: Git merge strategies\n",
    "\n",
    "[![Offered at: Otto-Friedrich-Universität Bamberg](https://img.shields.io/badge/Offered%20by-the%20Digital%20Work%20Lab%20(Otto--Friedrich--Universit%C3%A4t%20Bamberg)-blue)](https://digital-work-lab.github.io/open-source-project/)\n",
    "![License: CC BY 4.0](https://img.shields.io/badge/License-CC%20BY%204.0-green.svg)\n",
    "\n",
    "<img src=\"img/iconmonstr-certificate-6.svg\" alt=\"Edit\" width=\"16\" height=\"16\">  The notebook builds on our peer-reviewed <a href=\"iconmonstr-certificate-6.svg\">pedagogical foundations</a>.\n",
    "\n",
    "We  <img src=\"img/iconmonstr-favorite-2.svg\" alt=\"Edit\" width=\"12\" height=\"12\">  your <a href=\"https://github.com/digital-work-lab/practice-git/issues/new/choose\" target=\"_blank\">feedback</a> and <a href=\"https://github.com/digital-work-lab/practice-git/edit/main/notebooks/git_merging_strategies.ipynb\" target=\"_blank\">suggestions</a> on this notebook!\n",
    "\n",
    "---"
   ]
  },
  {
   "cell_type": "markdown",
   "id": "a8a20b4e",
   "metadata": {},
   "source": [
    "With this notebook, you can practice merging and resolving merge conflicts.\n",
    "\n",
    "| Task | Label                                           | Time (min) |\n",
    "|------|-------------------------------------------------|------------|\n",
    "|  3   | [Quizzes](#task-3)                              | 10         |\n",
    "|      | Overall                                         | 60         |\n",
    "\n",
    "<img src=\"img/iconmonstr-help-6.svg\" alt=\"Edit\" width=\"12\" height=\"12\"> We are here to help if errors or questions come up!\n",
    "\n",
    "<br>\n",
    "\n",
    "---"
   ]
  },
  {
   "cell_type": "markdown",
   "id": "df3855cd",
   "metadata": {},
   "source": [
    "<div style=\"border: 2px solid #ff9800; padding: 10px; background-color: #ffe0b2; color: #e65100; border-radius: 5px; display: inline-block; width: fit-content;\">\n",
    "    <strong>Important:</strong> Make sure to copy the commands and enter them in the shell as shown in the screenshot. It is not possible to run the cells in this notebook.\n",
    "</div>\n",
    "\n",
    "<div style=\"clear: both;\"></div>\n",
    "\n",
    "<img src=\"img/codespace-shell.png\" width=\"800\"/>"
   ]
  },
  {
   "cell_type": "markdown",
   "id": "29e3410b",
   "metadata": {},
   "source": [
    "# Setup\n",
    "\n",
    "To clone the repository and set up the quality_model_docs branch \n",
    "\n",
    "git clone https://github.com/CoLRev-Environment/colrev && cd colrev\n",
    "git checkout 108d278e8d01a65c5128c4a880247f0272896059\n",
    "git switch -c quality_model_docs\n",
    "\n",
    "# Option 1: merge commit (or fast forward)\n",
    "\n",
    "git switch main\n",
    "git reset --hard  6f4299bdb0551c680a97dbe04b39dee51bcd0556\n",
    "git merge quality_model_docs\n",
    "\n",
    "# Option 2: squash\n",
    "\n",
    "git switch main\n",
    "git reset --hard  6f4299bdb0551c680a97dbe04b39dee51bcd0556\n",
    "git merge --squash quality_model_docs\n",
    "git commit -n -m 'update docs for quality_model'\n",
    "\n",
    "# Option 3: rebase\n",
    "\n",
    "git switch main\n",
    "git reset --hard  6f4299bdb0551c680a97dbe04b39dee51bcd0556\n",
    "git switch quality_model_docs\n",
    "git rebase main\n",
    "git switch main\n",
    "git merge quality_model_docs"
   ]
  },
  {
   "cell_type": "markdown",
   "id": "247caf88",
   "metadata": {},
   "source": [
    "---\n",
    "\n",
    "# Wrap-up\n",
    "\n",
    "🎉🎈 You have completed the Git merging notebook - good work! 🎈🎉\n",
    "\n",
    "In this notebook, we have learned to\n",
    "\n",
    "- Resolve merge conflicts\n",
    "\n",
    "Remember to delete your codespace [here](https://github.com/codespaces):\n",
    "\n",
    "<img src=\"img/codespace-delete.png\" width=\"800\"/>"
   ]
  },
  {
   "cell_type": "markdown",
   "id": "d9343227",
   "metadata": {},
   "source": [
    "# TODO\n",
    "\n",
    "- move to cellls, ask students to take notes on the git graph\n",
    "- update the table\n",
    "- Note: all options are available for pull requests on Github."
   ]
  }
 ],
 "metadata": {
  "kernelspec": {
   "display_name": "Python 3 (ipykernel)",
   "language": "python",
   "name": "python3"
  },
  "language_info": {
   "codemirror_mode": {
    "name": "ipython",
    "version": 3
   },
   "file_extension": ".py",
   "mimetype": "text/x-python",
   "name": "python",
   "nbconvert_exporter": "python",
   "pygments_lexer": "ipython3",
   "version": "3.9.20"
  }
 },
 "nbformat": 4,
 "nbformat_minor": 5
}
