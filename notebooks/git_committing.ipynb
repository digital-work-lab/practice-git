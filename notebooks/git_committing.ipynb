{
 "cells": [
  {
   "cell_type": "markdown",
   "id": "0ff7b136",
   "metadata": {},
   "source": [
    "# Git practice: committing"
   ]
  },
  {
   "cell_type": "markdown",
   "id": "56475418",
   "metadata": {},
   "source": [
    "With this notebook, you can practice committing changes in Git.\n",
    "\n",
    "<div style=\"border: 2px solid #f44336; padding: 10px; background-color: #ffcccb; color: #a94442; border-radius: 5px;\">\n",
    "    <strong>Warning:</strong> It is important to copy the commands and enter them in the shell as shown in the screenshot. It is not possible to run the cells in this notebook.\n",
    "</div>\n",
    "\n",
    "In the following, we explain each step...\n",
    "\n",
    "<img src=\"img/screenshot.png\" width=\"800\"/>"
   ]
  },
  {
   "cell_type": "markdown",
   "id": "73e5334c",
   "metadata": {},
   "source": [
    "| Task | Time (min) |\n",
    "|------|------------|\n",
    "|  1   |     5      |\n",
    "|  2   |     10     |\n",
    "|  3   |     15     |\n",
    "|  4   |     15     |\n",
    "|  5   |     10     |\n",
    "|  6   |     10     |\n",
    "|  7   |     5      |\n",
    "|  8   |     15     |\n",
    "|  9   |     15     |\n"
   ]
  },
  {
   "cell_type": "code",
   "execution_count": null,
   "id": "92b5e0f0",
   "metadata": {},
   "outputs": [],
   "source": [
    "## Task 1/9: Clone the repository\n",
    "\n",
    "In this part, we work with an existing project. To download the example, open the `Git bash` (which should start at ``W:>``, your personal directory on the file server), and run the following commands:"
   ]
  },
  {
   "cell_type": "markdown",
   "id": "054572ae",
   "metadata": {
    "vscode": {
     "languageId": "plaintext"
    }
   },
   "source": [
    "git clone https://github.com/CoLRev-Environment/colrev\n",
    "cd colrev                     # Enter the directory of the colrev project"
   ]
  },
  {
   "cell_type": "markdown",
   "id": "95749b00",
   "metadata": {},
   "source": [
    "<details><summary {style='color:green;font-weight:bold'}>Check</summary>\n",
    "\n",
    "The clone command should print something like the following (with different numbers)\n",
    "\n",
    "```python\n",
    "\n",
    "Cloning into 'colrev'...\n",
    "remote: Counting objects: 100% (125/125), done.\n",
    "remote: Total 22225 (delta 41), reused 54 (delta 27), pack-reused 22100\n",
    "Receiving objects: 100% (22225/22225), 10.11 MiB | 2.37 MiB/s, done.\n",
    "Resolving deltas: 100% (18519/18519), done.\n",
    "\n",
    "```\n",
    "</details>"
   ]
  },
  {
   "cell_type": "markdown",
   "id": "f420454c",
   "metadata": {},
   "source": [
    "**Note**: You do not have to enter the explanation after the hashtag (#). To create an empty git project, you would run ``git init``."
   ]
  },
  {
   "cell_type": "markdown",
   "id": "b4e8db99",
   "metadata": {},
   "source": [
    "## Task 2/9: Check current status\n",
    "\n",
    "```shell\n",
    "git status\n",
    "```\n",
    "\n",
    "This command provides an overview of the current state of the project and the files in the three sections. Therefore, you will need to run ``git status`` regularly.\n",
    "\n",
    "\n"
   ]
  },
  {
   "cell_type": "markdown",
   "id": "c242e9f8",
   "metadata": {},
   "source": [
    "<details><summary {style='color:green;font-weight:bold'}>Check</summary>\n",
    "\n",
    "The clone command should print something like the following (with different numbers)\n",
    "\n",
    "```python\n",
    "\n",
    "On branch main\n",
    "Your branch is up to date with 'origin/main'.\n",
    "\n",
    "nothing to commit, working tree clean\n",
    "\n",
    "```\n",
    "\n",
    "The last line indicates that there are no changes in the staging area (nothing to commit). The working directory has the same content as the last version in the git respository (working tree clean).\n",
    "\n",
    "</details>"
   ]
  },
  {
   "cell_type": "markdown",
   "id": "4fccac61",
   "metadata": {},
   "source": [
    "## Task 3/9: File modification\n",
    "\n",
    "Next, we modify files (state: **untracked**/**modified**), mark them to be in the next commit (state: **staged**) and create the first version (state: **commited**). This corresponds to the three sections of a git project.\n",
    "\n",
    "- Open the `README.md` file and add your name to the list of contributors (`# Contributors` section).\n",
    "\n",
    "\n",
    "\n",
    "\n"
   ]
  },
  {
   "cell_type": "code",
   "execution_count": null,
   "id": "129312aa",
   "metadata": {
    "vscode": {
     "languageId": "plaintext"
    }
   },
   "outputs": [],
   "source": [
    "git status              # Check the `git status` between each command"
   ]
  },
  {
   "cell_type": "markdown",
   "id": "867a5a3c",
   "metadata": {},
   "source": [
    "- Open the `CONTRIBUTING.md` file and change it.\n"
   ]
  },
  {
   "cell_type": "markdown",
   "id": "666e29cd",
   "metadata": {},
   "source": [
    "\n",
    "\n",
    "The `git status` should now show two files with changes in the working directory (state: **modified**)\n",
    "\n",
    "</details>"
   ]
  },
  {
   "cell_type": "markdown",
   "id": "13966e9e",
   "metadata": {},
   "source": [
    "## Task 4/9: Staging changes\n",
    "\n",
    "We decide that the changes in the `README.md` file should be staged for the next commit. The changes in the `CONTRIBUTING.md` file are no longer needed. Use the commands suggested by `git status` to accomplish this.\n",
    "\n",
    "\n",
    "\n",
    "This means that changes in the README.md are **staged** (to be committed)."
   ]
  },
  {
   "cell_type": "markdown",
   "id": "fc2bcb13",
   "metadata": {},
   "source": [
    "<details><summary {style='color:green;font-weight:bold'}>Check</summary>\n",
    "\n",
    "The `git status` should now display \n",
    "\n",
    "```python\n",
    "On branch main\n",
    "Your branch is up to date with 'origin/main'.\n",
    "\n",
    "Changes to be committed:\n",
    "  (use \"git restore --staged <file>...\" to unstage)\n",
    "\tmodified:   README.md\n",
    "\n",
    "```\n",
    "\n",
    "</details>\n"
   ]
  },
  {
   "cell_type": "markdown",
   "id": "c2668623",
   "metadata": {},
   "source": [
    "## Task 5/9: Committing changes\n",
    "\n",
    "To create the commit, we run"
   ]
  },
  {
   "cell_type": "code",
   "execution_count": null,
   "id": "c9001f11",
   "metadata": {
    "vscode": {
     "languageId": "plaintext"
    }
   },
   "outputs": [],
   "source": [
    "git commit -m 'add contributor'"
   ]
  },
  {
   "cell_type": "markdown",
   "id": "0beaa9af",
   "metadata": {},
   "source": [
    "\n",
    "The `-m 'add contributor'` adds a short summary message, which is expected for every commit."
   ]
  },
  {
   "cell_type": "markdown",
   "id": "2a3fec5e",
   "metadata": {},
   "source": [
    "<details><summary {style='color:green;font-weight:bold'}>Check</summary>\n",
    "\n",
    "`git status` should reflect your expected state of files in the three git sections.\n",
    "\n",
    "</details>"
   ]
  },
  {
   "cell_type": "markdown",
   "id": "a594d99a",
   "metadata": {},
   "source": [
    "## Task 6/9: Undo committing changes\n",
    "\n",
    "To undo the last commit, we can simply run:\n"
   ]
  },
  {
   "cell_type": "code",
   "execution_count": null,
   "id": "ddc9ebf2",
   "metadata": {
    "vscode": {
     "languageId": "plaintext"
    }
   },
   "outputs": [],
   "source": [
    "git reset --soft HEAD~1\n"
   ]
  },
  {
   "cell_type": "markdown",
   "id": "9d7d7d14",
   "metadata": {},
   "source": [
    "You should now have the `README.md` file in the staging area again."
   ]
  },
  {
   "cell_type": "markdown",
   "id": "8f335a54",
   "metadata": {},
   "source": [
    "<details><summary {style='color:green;font-weight:bold'}>Check</summary>\n",
    "\n",
    "the `HEAD~1` refers to the last commit.\n",
    "\n",
    "Run `git status` to see the changes.\n",
    "\n",
    "We decide to discard our changes. Use the commands suggested by `git status` to do that.\n",
    "\n",
    "</details>"
   ]
  },
  {
   "cell_type": "markdown",
   "id": "2509eba7",
   "metadata": {},
   "source": [
    "<details><summary {style='color:green;font-weight:bold'}>Check</summary>\n",
    "\n",
    "The git status should show the following:\n",
    "\n",
    "```\n",
    "On branch main\n",
    "nothing to commit, working tree clean\n",
    "```\n",
    "\n",
    "</details>"
   ]
  },
  {
   "cell_type": "markdown",
   "id": "bd558685",
   "metadata": {},
   "source": [
    "<img src=\"img/assets/gitk-illustration_explained.png\" width=\"800\"/>"
   ]
  },
  {
   "cell_type": "markdown",
   "id": "915b343d",
   "metadata": {},
   "source": [
    "## Task 7/9: See changes\n",
    "\n",
    "To analyze the specific changes, open `gitk` (or another Git GUI):\n",
    "\n",
    "```\n",
    "gitk\n",
    "```\n"
   ]
  },
  {
   "cell_type": "markdown",
   "id": "932e70fc",
   "metadata": {},
   "source": [
    "<details><summary {style='color:green;font-weight:bold'}>Check</summary>\n",
    "\n",
    "\n",
    "- which files were added and modified by the last commit\n",
    "- The code that was modified (increase and decrease lines of context in gitk). The next page provides an overview of gitk (other Git GUIs have similar interface elements).\n",
    "\n",
    "</details>"
   ]
  },
  {
   "cell_type": "markdown",
   "id": "51a2ea75",
   "metadata": {},
   "source": [
    "## Task 8/9: Create Atomic commits\n",
    "\n",
    "To create atomic commits, you may need to **add specific lines of code that should go into a commit**, leaving other changes in the working directory.\n",
    "\n",
    "The changes are provided in the [`rec_dict.patch`](../assets/rec_dict.patch) file, which must be placed in the project's working directory. To apply it, run:\n"
   ]
  },
  {
   "cell_type": "code",
   "execution_count": null,
   "id": "9e0d4100",
   "metadata": {
    "vscode": {
     "languageId": "plaintext"
    }
   },
   "outputs": [],
   "source": [
    "git apply rec_dict.patch                # Suggests to rename the method but also introduces unrelated changes.\n",
    "git status                              # Different files were modified by the patch\n",
    "gitk                                    # Check the changes that were introduced by the patch"
   ]
  },
  {
   "cell_type": "markdown",
   "id": "ae396bf7",
   "metadata": {},
   "source": [
    "In the following, we would like to add *only* the changes in lines related to the `load_records_dict` method and the `skip_notification` parameter (using `-p` for a partial `git add`):"
   ]
  },
  {
   "cell_type": "code",
   "execution_count": null,
   "id": "8c55788d",
   "metadata": {
    "vscode": {
     "languageId": "plaintext"
    }
   },
   "outputs": [],
   "source": [
    "git add -p colrev/dataset.py            # Add specific lines of code from the colrev/dataset.py\n",
    "                                        # using y/n to add or skip (confirming with ENTER)\n",
    "gitk                                    # Check whether the correct lines were added"
   ]
  },
  {
   "cell_type": "markdown",
   "id": "0979ddc8",
   "metadata": {},
   "source": [
    "Create a commit containing the relevant changes. Afterwards, discard the remaining changes."
   ]
  },
  {
   "cell_type": "markdown",
   "id": "ca342561",
   "metadata": {},
   "source": [
    "## Task 9/9: Undo changes (advanced)\n",
    "\n",
    "When writing code, we can make mistakes, or we may need to undo or modify previous changes. To undo changes, it is important to understand whether they are unstaged, staged, or committed.\n",
    "\n",
    "To **undo unstaged or staged changes**, `git status` suggests the corresponding operations (`git restore <file>` and `git restore --staged <file>`). To see how `git restore` works:\n",
    "\n",
    "- Modify the `README.md` file and add the changes to the staging area\n",
    "- Undo the staged changes\n",
    "- Undo the unstaged changes"
   ]
  },
  {
   "cell_type": "markdown",
   "id": "27d01550",
   "metadata": {},
   "source": [
    "<details><summary {style='color:green;font-weight:bold'}>Check</summary>\n",
    "\n",
    "The working directory should be clean again.\n",
    "\n",
    "</details>"
   ]
  },
  {
   "cell_type": "markdown",
   "id": "17aaad8d",
   "metadata": {},
   "source": [
    "To **undo committed changes**, there several options (some are available in gitk):\n",
    "\n",
    "- Revert the commit, i.e., create a new commit to undo changes: `git revert COMMIT_SHA --no-edit`\n",
    "- Undo the commit and leave the changes in the staging area: `git reset --soft COMMIT_SHA` (*)\n",
    "- Stage changes, and run `git commit --amend` to modify the last commit (*)\n",
    "\n",
    "If you have the time, try the different undo operations in the session.\n",
    "\n",
    "(*) Important: only amend commits that are not yet shared with the team. Otherwise, revert is preferred.\n"
   ]
  }
 ],
 "metadata": {
  "kernelspec": {
   "display_name": "Python 3 (ipykernel)",
   "language": "python",
   "name": "python3"
  },
  "language_info": {
   "codemirror_mode": {
    "name": "ipython",
    "version": 3
   },
   "file_extension": ".py",
   "mimetype": "text/x-python",
   "name": "python",
   "nbconvert_exporter": "python",
   "pygments_lexer": "ipython3",
   "version": "3.8.10"
  }
 },
 "nbformat": 4,
 "nbformat_minor": 5
}
