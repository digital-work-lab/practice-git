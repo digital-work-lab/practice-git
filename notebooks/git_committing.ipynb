{
 "cells": [
  {
   "cell_type": "markdown",
   "id": "0ff7b136",
   "metadata": {},
   "source": [
    "# Exercise notebook: Git committing\n",
    "\n",
    "[![Offered by: Digital Work at Otto-Friedrich-Universität Bamberg](https://img.shields.io/badge/Offered%20by-%20Digital%20Work%20(Otto--Friedrich--Universit%C3%A4t%20Bamberg)-blue)](https://digital-work-lab.github.io/open-source-project/)\n",
    "![License: CC BY 4.0](https://img.shields.io/badge/License-CC%20BY%204.0-green.svg)\n",
    "\n",
    "<img src=\"img/iconmonstr-certificate-6.svg\" alt=\"Edit\" width=\"16\" height=\"16\">  The notebook builds on our peer-reviewed <a href=\"iconmonstr-certificate-6.svg\">pedagogical foundations</a>.\n",
    "\n",
    "We  <img src=\"img/iconmonstr-favorite-2.svg\" alt=\"Edit\" width=\"12\" height=\"12\">  your <a href=\"https://github.com/digital-work-lab/practice-git/issues/new/choose\" target=\"_blank\">feedback</a> and <a href=\"https://github.com/digital-work-lab/practice-git/edit/main/notebooks/git_committing.ipynb\" target=\"_blank\">suggestions</a> on this notebook!\n",
    "\n",
    "---"
   ]
  },
  {
   "cell_type": "markdown",
   "id": "73e5334c",
   "metadata": {},
   "source": [
    "<div style=\"border-left: 4px solid #026e57; background-color: #d0f0e4; padding: 15px; margin: 10px 0; color: #026e57; border-radius: 5px; width:800px;\">\n",
    "    <strong>Concepts: Git areas</strong> <br><br>The slides explaining the Git areas are <a href=\"https://digital-work-lab.github.io/open-source-project/output/02-git.html#10\" target=\"_blank\">here</a>.\n",
    "</div>\n",
    "\n",
    "<br>\n",
    "\n",
    "With this notebook, you can practice committing changes in Git.\n",
    "\n",
    "| Practice | Label                                             | Time (min) |\n",
    "|----------|---------------------------------------------------|------------|\n",
    "|  1       | [Clone the repository](#clone)                    | 5          |\n",
    "|  2       | [Create, stage, and commit changes](#commit)      | 10         |\n",
    "|  3       | [Undo committed changes](#undo)                   | 8          |\n",
    "|  4       | [Create Atomic commits](#atomic)                  | 10         |\n",
    "|  5       | [Undo changes (advanced)](#undo)                  | 5          |\n",
    "|  6       | [Wrap-up](#wrap-up)                               |  2         |\n",
    "|          | Overall                                           | 40         |\n",
    "\n",
    "<img src=\"img/iconmonstr-help-6.svg\" alt=\"Edit\" width=\"12\" height=\"12\"> We are here to help if errors or questions come up!\n",
    "\n",
    "<br>\n",
    "\n",
    "---"
   ]
  },
  {
   "cell_type": "markdown",
   "id": "9b3e14f6",
   "metadata": {},
   "source": [
    "<div style=\"border: 2px solid #ff9800; padding: 10px; background-color: #ffe0b2; color: #e65100; border-radius: 5px; display: inline-block; max-width: 800px; width: 100%;\">\n",
    "    <strong>Important:</strong> Make sure to copy the commands and enter them in the shell as shown in the screenshot. It is not possible to run the cells in this notebook.\n",
    "    <div style=\"clear: both;\"></div>\n",
    "    <img src=\"img/codespace-shell.png\" style=\"max-width: 100%; border-radius: 5px;\">\n",
    "</div>\n"
   ]
  },
  {
   "cell_type": "markdown",
   "id": "92b5e0f0",
   "metadata": {},
   "source": [
    "## Part 1: Clone the repository <a id=\"clone\"></a>\n",
    "\n",
    "<p style=\"max-width: 800px; margin-left: 0; margin-right: 0; text-align: justify;\">In this part, we work with an existing project. To download the example, run the following commands:</p>"
   ]
  },
  {
   "cell_type": "code",
   "execution_count": null,
   "id": "e240fcd4",
   "metadata": {},
   "outputs": [],
   "source": [
    "cd /workspaces\n",
    "git clone https://github.com/CoLRev-Environment/colrev"
   ]
  },
  {
   "cell_type": "markdown",
   "id": "95749b00",
   "metadata": {},
   "source": [
    "<details><summary {style='color:green;font-weight:bold'}>Check</summary>\n",
    "\n",
    "<p style=\"max-width: 800px; margin-left: 0; margin-right: 0; text-align: justify;\">The clone command should print something like the following (the number of objects may differ):</p>\n",
    "\n",
    "```python\n",
    "\n",
    "Cloning into 'colrev'...\n",
    "remote: Counting objects: 100% (125/125), done.\n",
    "remote: Total 22225 (delta 41), reused 54 (delta 27), pack-reused 22100\n",
    "Receiving objects: 100% (22225/22225), 10.11 MiB | 2.37 MiB/s, done.\n",
    "Resolving deltas: 100% (18519/18519), done.\n",
    "\n",
    "```\n",
    "</details>"
   ]
  },
  {
   "cell_type": "markdown",
   "id": "66e07b58",
   "metadata": {},
   "source": [
    "<p style=\"max-width: 800px; margin-left: 0; margin-right: 0; text-align: justify;\">The repository has been downloaded to our machine (i.e., the Codespace environment). Let's enter the directory and to check the status.</p>\n",
    "\n",
    "<p style=\"max-width: 800px; margin-left: 0; margin-right: 0; text-align: justify;\"><b>Note</b>: To create an empty git project, you would run <code>git init</code>.</p>\n",
    "\n",
    "<div style=\"border: 2px solid #03a9f4; padding: 10px; background-color: #b3e5fc; color: #01579b; border-radius: 5px; display: inline-block; width:800px;\">\n",
    "    <strong>Info</strong> The code -a ... command will reopen the codespace window and add the new project to the explorer sidebar. You will have to navigate to this notebook again.\n",
    "</div>"
   ]
  },
  {
   "cell_type": "code",
   "execution_count": null,
   "id": "90a6cf19",
   "metadata": {},
   "outputs": [],
   "source": [
    "code -a /workspaces/colrev"
   ]
  },
  {
   "cell_type": "markdown",
   "id": "f420454c",
   "metadata": {},
   "source": [
    "<img src=\"img/codespace-reopen.png\" width=\"820px\"/>"
   ]
  },
  {
   "cell_type": "markdown",
   "id": "b4e8db99",
   "metadata": {},
   "source": [
    "<p style=\"max-width: 800px; margin-left: 0; margin-right: 0; text-align: justify;\">The status command provides an overview of the current state of the project and the files in the three sections. Therefore, you will need to run <code>git status</code> regularly.</p>\n",
    "\n",
    "<p style=\"max-width: 800px; margin-left: 0; margin-right: 0; text-align: justify;\"><b>Note</b>: The comments after the hashtag (#) are ignored.</p>"
   ]
  },
  {
   "cell_type": "code",
   "execution_count": null,
   "id": "941e8e67",
   "metadata": {},
   "outputs": [],
   "source": [
    "\n",
    "# Enter the directory of the colrev project\n",
    "cd /workspaces/colrev\n",
    "# Check the status of the project\n",
    "git status"
   ]
  },
  {
   "cell_type": "markdown",
   "id": "c242e9f8",
   "metadata": {},
   "source": [
    "<details><summary {style='color:green;font-weight:bold'}>Check</summary>\n",
    "\n",
    "<p style=\"max-width: 800px; margin-left: 0; margin-right: 0; text-align: justify;\">The `git status` command should print something like the following:</p>\n",
    "\n",
    "```python\n",
    "\n",
    "On branch main\n",
    "Your branch is up to date with 'origin/main'.\n",
    "\n",
    "nothing to commit, working tree clean\n",
    "\n",
    "```\n",
    "\n",
    "<p style=\"max-width: 800px; margin-left: 0; margin-right: 0; text-align: justify;\">The last line indicates that there are no changes in the staging area (nothing to commit). The working directory has the same content as the last version in the git repository (working tree clean).</p>\n",
    "\n",
    "</details>"
   ]
  },
  {
   "cell_type": "markdown",
   "id": "4fccac61",
   "metadata": {},
   "source": [
    "## Part 2: Create, stage, and commit changes <a id=\"commit\"></a>\n",
    "\n",
    "<p style=\"max-width: 800px; margin-left: 0; margin-right: 0; text-align: justify;\">Next, we modify files (state: <b>untracked</b>/<b>modified</b>), mark them to be in the next commit (state: <b>staged</b>) and create the first version (state: <b>committed</b>). This corresponds to the three sections of a Git project.</p>\n",
    "\n",
    "<p style=\"max-width: 800px; margin-left: 0; margin-right: 0; text-align: justify;\"><b>Task</b>: Open the <code>README.md</code> file in the colrev repository (<code>shift</code> + double click to open in a separate tab) and add your name to the project citation (<code># Citing CoLRev</code> section).</p>"
   ]
  },
  {
   "cell_type": "code",
   "execution_count": null,
   "id": "129312aa",
   "metadata": {},
   "outputs": [],
   "source": [
    "# Check the `git status` between each command\n",
    "git status"
   ]
  },
  {
   "cell_type": "markdown",
   "id": "867a5a3c",
   "metadata": {},
   "source": [
    "<p style=\"max-width: 800px; margin-left: 0; margin-right: 0; text-align: justify;\"><b>Task</b>: Open the <code>CONTRIBUTING.md</code> file and change it.</p>\n"
   ]
  },
  {
   "cell_type": "markdown",
   "id": "666e29cd",
   "metadata": {},
   "source": [
    "\n",
    "<p style=\"max-width: 800px; margin-left: 0; margin-right: 0; text-align: justify;\">The <code>git status</code> should now show two files with changes in the working directory (state: <b>modified</b>)</p>"
   ]
  },
  {
   "cell_type": "markdown",
   "id": "13966e9e",
   "metadata": {},
   "source": [
    "\n",
    "<p style=\"max-width: 800px; margin-left: 0; margin-right: 0; text-align: justify;\">We decide that the changes in the <code>README.md</code> file should be <b>staged</b> for the next commit. The changes in the <code>CONTRIBUTING.md</code> file are no longer needed.</p>\n",
    "\n",
    "<p style=\"max-width: 800px; margin-left: 0; margin-right: 0; text-align: justify;\"><b>Task</b>: Use the commands suggested by <code>git status</code> to accomplish this.</p>\n",
    "\n",
    "<p style=\"max-width: 800px; margin-left: 0; margin-right: 0; text-align: justify;\">This means that changes in the README.md are <b>staged</b> (to be committed).</p>"
   ]
  },
  {
   "cell_type": "markdown",
   "id": "fc2bcb13",
   "metadata": {},
   "source": [
    "<details><summary {style='color:green;font-weight:bold'}>Check</summary>\n",
    "\n",
    "The `git status` should now display \n",
    "\n",
    "```python\n",
    "On branch main\n",
    "Your branch is up to date with 'origin/main'.\n",
    "\n",
    "Changes to be committed:\n",
    "  (use \"git restore --staged <file>...\" to unstage)\n",
    "\tmodified:   README.md\n",
    "\n",
    "```\n",
    "\n",
    "</details>\n"
   ]
  },
  {
   "cell_type": "markdown",
   "id": "c2668623",
   "metadata": {},
   "source": [
    "<p style=\"max-width: 800px; margin-left: 0; margin-right: 0; text-align: justify;\">To <b>commit</b> the changes, we run</p>"
   ]
  },
  {
   "cell_type": "code",
   "execution_count": null,
   "id": "c9001f11",
   "metadata": {},
   "outputs": [],
   "source": [
    "git commit -m 'add contributor'"
   ]
  },
  {
   "cell_type": "markdown",
   "id": "0beaa9af",
   "metadata": {},
   "source": [
    "\n",
    "<p style=\"max-width: 800px; margin-left: 0; margin-right: 0; text-align: justify;\">The <code>-m 'add contributor'</code> adds a short summary message, which is expected for every commit.</p>"
   ]
  },
  {
   "cell_type": "markdown",
   "id": "2a3fec5e",
   "metadata": {},
   "source": [
    "<details><summary {style='color:green;font-weight:bold'}>Check</summary>\n",
    "\n",
    "`git status` should reflect your expected state of files in the three Git sections.\n",
    "\n",
    "</details>"
   ]
  },
  {
   "cell_type": "markdown",
   "id": "a594d99a",
   "metadata": {},
   "source": [
    "## Part 3: Undo committed changes <a id=\"undo\"></a>\n",
    "\n",
    "<p style=\"max-width: 800px; margin-left: 0; margin-right: 0; text-align: justify;\">To undo the last commit, we can simply run:</p>"
   ]
  },
  {
   "cell_type": "code",
   "execution_count": null,
   "id": "ddc9ebf2",
   "metadata": {},
   "outputs": [],
   "source": [
    "git reset --soft HEAD~1"
   ]
  },
  {
   "cell_type": "markdown",
   "id": "9d7d7d14",
   "metadata": {},
   "source": [
    "<p style=\"max-width: 800px; margin-left: 0; margin-right: 0; text-align: justify;\">You should now have the <code>README.md</code> file in the staging area again.</p>\n",
    "\n",
    "<p style=\"max-width: 800px; margin-left: 0; margin-right: 0; text-align: justify;\"><b>Note</b>: the <code>HEAD~1</code> refers to the last commit.</p>\n",
    "\n",
    "<p style=\"max-width: 800px; margin-left: 0; margin-right: 0; text-align: justify;\"><b>Task</b>: Run <code>git status</code> to see the changes.</p>"
   ]
  },
  {
   "cell_type": "markdown",
   "id": "2509eba7",
   "metadata": {},
   "source": [
    "<p style=\"max-width: 800px; margin-left: 0; margin-right: 0; text-align: justify;\">We decide to discard our changes.</p>\n",
    "\n",
    "<p style=\"max-width: 800px; margin-left: 0; margin-right: 0; text-align: justify;\"><b>Task</b>: Use the commands suggested by <code>git status</code> to do that.</p>\n",
    "\n",
    "<details><summary {style='color:green;font-weight:bold'}>Check</summary>\n",
    "\n",
    "The `git status` should show the following:\n",
    "\n",
    "```\n",
    "On branch main\n",
    "nothing to commit, working tree clean\n",
    "```\n",
    "\n",
    "</details>"
   ]
  },
  {
   "cell_type": "markdown",
   "id": "12165f4c",
   "metadata": {},
   "source": [
    "To analyze the specific changes, open the Git GUI:\n",
    "\n",
    "<img src=\"img/codespace-git-viewer.png\" width=\"820\"/>"
   ]
  },
  {
   "cell_type": "markdown",
   "id": "d007e435",
   "metadata": {},
   "source": [
    "## Part 4: Create atomic commits <a id=\"atomic\"></a>\n",
    "\n",
    "\n",
    "<p style=\"max-width: 800px; margin-left: 0; margin-right: 0; text-align: justify;\">It is good practice to create <b>atomic commits</b>, i.e., small changes that belong together. One should avoid large commits that modify many unrelated parts of the code base and pursue different objectives.</p>\n",
    "\n",
    "<p style=\"max-width: 800px; margin-left: 0; margin-right: 0; text-align: justify;\">Analyze the following commits and discuss which ones are atomic and which ones combine changes that do not belong together (i.e., should be in separate commits).</p>\n",
    "<p style=\"max-width: 800px; margin-left: 0; margin-right: 0; text-align: justify;\">Also check the commit message (short summary at the beginning). Does the message clearly summarize the changes?</p>\n",
    "\n",
    "<a href=\"https://github.com/CoLRev-Environment/colrev/commit/a0c9043784f9342136d2ab214513688769669199\" target=\"_blank\">Commit 1</a>\n",
    "\n",
    "<details><summary {style='color:green;font-weight:bold'}>Check</summary>\n",
    "\n",
    "**Solution**: Atomic commit, ok.\n",
    "\n",
    "</details>\n",
    "\n",
    "<a href=\"https://github.com/CoLRev-Environment/colrev/commit/5288e92083b6df546d7c8fd590df3e968a909114\" target=\"_blank\">Commit 2</a>\n",
    "\n",
    "<details><summary {style='color:green;font-weight:bold'}>Check</summary>\n",
    "\n",
    "**Solution**: Relatively atomic. There are a few changes beyond `compute_language()`. May be improved.\n",
    "\n",
    "</details>\n",
    "\n",
    "<a href=\"https://github.com/CoLRev-Environment/colrev/commit/ba08d4242f48ec96b4fa8cfd053ee3781e32231f\" target=\"_blank\">Commit 3</a>\n",
    "\n",
    "<details><summary {style='color:green;font-weight:bold'}>Check</summary>\n",
    "\n",
    "**Solution**: Many files changed. Changes not related to each other. Message refers to refactoring and testing, but the commit also adds functionality.\n",
    "\n",
    "</details>\n",
    "\n",
    "<a href=\"https://github.com/CoLRev-Environment/colrev/commit/ce9850f805a140692866970c92557833e6befa0b\" target=\"_blank\">Commit 4</a>\n",
    "\n",
    "<details><summary {style='color:green;font-weight:bold'}>Check</summary>\n",
    "\n",
    "**Solution**: Many files changed, but the changes belong together. ok.\n",
    "\n",
    "</details>\n",
    "\n",
    "<a href=\"https://github.com/CoLRev-Environment/colrev/commit/93fc7e851d2ba3fc95cc3190b6b71dc4a907c96b\" target=\"_blank\">Commit 5</a>\n",
    "\n",
    "<details><summary {style='color:green;font-weight:bold'}>Check</summary>\n",
    "\n",
    "**Solution**: Atomic commit, ok.\n",
    "\n",
    "<p style=\"max-width: 800px; margin-left: 0; margin-right: 0; text-align: justify;\">It is ok to combine functionality, tests, and docs that belong together in one commit!</p>\n",
    "\n",
    "</details>\n"
   ]
  },
  {
   "cell_type": "markdown",
   "id": "75660eca",
   "metadata": {},
   "source": [
    "**Optional**: If you have the time, you may check the [Conventional Commits](https://www.conventionalcommits.org/en/v1.0.0/) specification."
   ]
  },
  {
   "cell_type": "markdown",
   "id": "9b9a5218",
   "metadata": {},
   "source": [
    "<p style=\"max-width: 800px; margin-left: 0; margin-right: 0; text-align: justify;\">To create atomic commits, you may need to <b>add specific lines of code that should go into a commit</b>, leaving other changes in the working directory.</p>\n",
    "\n",
    "<p style=\"max-width: 800px; margin-left: 0; margin-right: 0; text-align: justify;\">The changes are provided in the <code>rec_dict.patch</code> file, which must be placed in the project's working directory. To apply it, run:</p>"
   ]
  },
  {
   "cell_type": "code",
   "execution_count": null,
   "id": "9e0d4100",
   "metadata": {},
   "outputs": [],
   "source": [
    "# Suggests to rename the method but also introduces unrelated changes.\n",
    "git apply /workspaces/practice-git/notebooks/rec_dict.patch\n",
    "# Different files were modified by the patch\n",
    "git status"
   ]
  },
  {
   "cell_type": "markdown",
   "id": "1dcf7120",
   "metadata": {},
   "source": [
    "<p style=\"max-width: 800px; margin-left: 0; margin-right: 0; text-align: justify;\"><b>Task</b>: Use the Git GUI to check the changes that were introduced by the patch.</p>"
   ]
  },
  {
   "cell_type": "markdown",
   "id": "ae396bf7",
   "metadata": {},
   "source": [
    "<p style=\"max-width: 800px; margin-left: 0; margin-right: 0; text-align: justify;\">In the following, we would like to add <b>only</b> the changes in lines related to the <code>load_records_dict</code> method and the <code>skip_notification</code> parameter (using <code>-p</code> for a partial <code>git add</code>):</p>"
   ]
  },
  {
   "cell_type": "code",
   "execution_count": null,
   "id": "8c55788d",
   "metadata": {},
   "outputs": [],
   "source": [
    "# Add specific lines of code from the colrev/dataset.py\n",
    "# using y/n to add or skip (confirming with ENTER)\n",
    "git add -p colrev/dataset.py"
   ]
  },
  {
   "cell_type": "markdown",
   "id": "0979ddc8",
   "metadata": {},
   "source": [
    "<p style=\"max-width: 800px; margin-left: 0; margin-right: 0; text-align: justify;\"><b>Task</b>: Check whether the correct lines were added! Create a commit containing the relevant changes. Afterwards, discard the remaining changes.</p>"
   ]
  },
  {
   "cell_type": "markdown",
   "id": "ca342561",
   "metadata": {},
   "source": [
    "## Part 5: Undo changes (advanced) <a id=\"undo\"></a>\n",
    "\n",
    "<p style=\"max-width: 800px; margin-left: 0; margin-right: 0; text-align: justify;\">To <b>undo committed changes</b>, there several options:</p>\n",
    "\n",
    "- Revert the commit, i.e., create a new commit to undo changes: `git revert COMMIT_SHA --no-edit`\n",
    "- Undo the commit and leave the changes in the staging area: `git reset --soft COMMIT_SHA` (*)\n",
    "- Stage changes, and run `git commit --amend` to modify the last commit (*)\n",
    "\n",
    "<p style=\"max-width: 800px; margin-left: 0; margin-right: 0; text-align: justify;\">If you have the time, try the different undo operations in the session.</p>\n",
    "\n",
    "<p style=\"max-width: 800px; margin-left: 0; margin-right: 0; text-align: justify;\">(*) Important: only amend commits that are not yet shared with the team. Otherwise, revert is preferred.</p>"
   ]
  },
  {
   "cell_type": "markdown",
   "id": "840b3ccd",
   "metadata": {},
   "source": [
    "<div style=\"border: 2px solid #03a9f4; padding: 10px; background-color: #b3e5fc; color: #01579b; border-radius: 5px; display: inline-block; width:800px;\">\n",
    "    <strong>Info</strong> Once you have committed changes, Git takes takes care of the data and it is very hard to lose the data. Uncommited data can be lost more easily. Therefore, commit often!<br><br> Even if you run <code>git reset --hard ...</code>, you can still recover commits using <code>git reflog</code>. Committed data will only be lost permanently if you run <code>git reflog expire --expire=now --all</code> and <code>git gc --prune=now --aggressive</code>. If the commits are already on GitHub, you would need <code>git push --force</code> and the changes may also be synchronized in other local repositories. <br><br>Avoid options like <code>--force</code>, <code>--hard</code>, or <code>--aggressive</code>. Use them only if you know what you are doing.\n",
    "</div>\n",
    "\n",
    "<br>\n",
    "\n",
    "---"
   ]
  },
  {
   "cell_type": "markdown",
   "id": "9e7d4afe",
   "metadata": {},
   "source": [
    "## Wrap-up  <a id=\"wrap-up\"></a>\n",
    "\n",
    "🎉🎈 You have completed the Git commit notebook - good work! 🎈🎉\n",
    "\n",
    "In this notebook, we have learned to\n",
    "\n",
    "- Clone a repository and check the `git status`\n",
    "- Create, stage, and commit changes using `git add`, `git commit` and `git restore`\n",
    "- Create atomic commits\n",
    "- Undo changes\n",
    "- Navigate Visualstudio Code on GitHub Codespaces\n",
    "\n",
    "Remember to delete your codespace [here](https://github.com/codespaces) (see [instructions](codespaces.ipynb))."
   ]
  }
 ],
 "metadata": {
  "kernelspec": {
   "display_name": "Python 3 (ipykernel)",
   "language": "python",
   "name": "python3"
  },
  "language_info": {
   "codemirror_mode": {
    "name": "ipython",
    "version": 3
   },
   "file_extension": ".py",
   "mimetype": "text/x-python",
   "name": "python",
   "nbconvert_exporter": "python",
   "pygments_lexer": "ipython3",
   "version": "3.9.20"
  }
 },
 "nbformat": 4,
 "nbformat_minor": 5
}
