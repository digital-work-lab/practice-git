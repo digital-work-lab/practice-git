{
 "cells": [
  {
   "cell_type": "markdown",
   "id": "0ff7b136",
   "metadata": {},
   "source": [
    "# Exercise notebook: Git committing\n",
    "\n",
    "[![Offered by: Digital Work at Otto-Friedrich-Universität Bamberg](https://img.shields.io/badge/Offered%20by-%20Digital%20Work%20(Otto--Friedrich--Universit%C3%A4t%20Bamberg)-blue)](https://digital-work-lab.github.io/open-source-project/)\n",
    "![License: CC BY 4.0](https://img.shields.io/badge/License-CC%20BY%204.0-green.svg)\n",
    "\n",
    "<img src=\"img/iconmonstr-certificate-6.svg\" alt=\"Edit\" width=\"16\" height=\"16\">  The notebook builds on our peer-reviewed <a href=\"iconmonstr-certificate-6.svg\">pedagogical foundations</a>.\n",
    "\n",
    "We  <img src=\"img/iconmonstr-favorite-2.svg\" alt=\"Edit\" width=\"12\" height=\"12\">  your <a href=\"https://github.com/digital-work-lab/practice-git/issues/new/choose\" target=\"_blank\">feedback</a> and <a href=\"https://github.com/digital-work-lab/practice-git/edit/main/notebooks/git_committing.ipynb\" target=\"_blank\">suggestions</a> on this notebook!\n",
    "\n",
    "---"
   ]
  },
  {
   "cell_type": "markdown",
   "id": "73e5334c",
   "metadata": {},
   "source": [
    "With this notebook, you can practice committing changes in Git.\n",
    "\n",
    "\n",
    "| Task | Label                                           | Time (min) |\n",
    "|------|-------------------------------------------------|------------|\n",
    "|  1   | [Clone the repository](#task-1)                 | 15         |\n",
    "|  2   | [Create, stage, and commit changes](#task-2)    | 28         |\n",
    "|  3   | [Undo committed changes](#task-3)               | 15         |\n",
    "|  4   | [Create Atomic commits](#task-4)                | 15         |\n",
    "|  5   | [Undo changes (advanced)](#task-5)              | 15         |\n",
    "|  6   | [Wrap-up](#wrap-up)                             |  2         |\n",
    "|      | Overall                                         | 90         |\n",
    "\n",
    "<img src=\"img/iconmonstr-help-6.svg\" alt=\"Edit\" width=\"12\" height=\"12\"> We are here to help if errors or questions come up!\n",
    "\n",
    "<br>\n",
    "\n",
    "---"
   ]
  },
  {
   "cell_type": "markdown",
   "id": "9b3e14f6",
   "metadata": {},
   "source": [
    "<div style=\"border: 2px solid #ff9800; padding: 10px; background-color: #ffe0b2; color: #e65100; border-radius: 5px; display: inline-block; width: fit-content; width:800px;\">\n",
    "    <strong>Important:</strong> Make sure to copy the commands and enter them in the shell as shown in the screenshot. It is not possible to run the cells in this notebook.\n",
    "    <div style=\"clear: both;\"></div>\n",
    "    <img src=\"img/codespace-shell.png\" width=\"800\"/>\n",
    "</div>"
   ]
  },
  {
   "cell_type": "markdown",
   "id": "92b5e0f0",
   "metadata": {},
   "source": [
    "## Task 1: Clone the repository <a id=\"task-1\"></a>\n",
    "\n",
    "In this part, we work with an existing project. To download the example, run the following commands:"
   ]
  },
  {
   "cell_type": "code",
   "execution_count": null,
   "id": "e240fcd4",
   "metadata": {},
   "outputs": [],
   "source": [
    "cd ..\n",
    "git clone https://github.com/CoLRev-Environment/colrev"
   ]
  },
  {
   "cell_type": "markdown",
   "id": "95749b00",
   "metadata": {},
   "source": [
    "<details><summary {style='color:green;font-weight:bold'}>Check</summary>\n",
    "\n",
    "The clone command should print something like the following (the number of objects may differ):\n",
    "\n",
    "```python\n",
    "\n",
    "Cloning into 'colrev'...\n",
    "remote: Counting objects: 100% (125/125), done.\n",
    "remote: Total 22225 (delta 41), reused 54 (delta 27), pack-reused 22100\n",
    "Receiving objects: 100% (22225/22225), 10.11 MiB | 2.37 MiB/s, done.\n",
    "Resolving deltas: 100% (18519/18519), done.\n",
    "\n",
    "```\n",
    "</details>"
   ]
  },
  {
   "cell_type": "markdown",
   "id": "66e07b58",
   "metadata": {},
   "source": [
    "The repository has been downloaded to our machine (i.e., the Codespace environment). Let's enter the directory and to check the status.\n",
    "\n",
    "**Note**: To create an empty git project, you would run ``git init``.\n",
    "\n",
    "<div style=\"border: 2px solid #03a9f4; padding: 10px; background-color: #b3e5fc; color: #01579b; border-radius: 5px; display: inline-block; width: fit-content;\">\n",
    "    <strong>Info</strong> The code -a ... command will reopen the codespace window and add the new project to the explorer sidebar. You will have to navigate to this notebook again.\n",
    "</div>"
   ]
  },
  {
   "cell_type": "code",
   "execution_count": null,
   "id": "90a6cf19",
   "metadata": {},
   "outputs": [],
   "source": [
    "code -a /workspaces/colrev"
   ]
  },
  {
   "cell_type": "markdown",
   "id": "f420454c",
   "metadata": {},
   "source": [
    "<img src=\"img/codespace-reopen.png\" width=\"800\"/>"
   ]
  },
  {
   "cell_type": "markdown",
   "id": "b4e8db99",
   "metadata": {},
   "source": [
    "The status command provides an overview of the current state of the project and the files in the three sections. Therefore, you will need to run ``git status`` regularly.\n",
    "\n",
    "**Note**: The comments after the hashtag (#) are ignored. "
   ]
  },
  {
   "cell_type": "code",
   "execution_count": null,
   "id": "941e8e67",
   "metadata": {},
   "outputs": [],
   "source": [
    "\n",
    "# Enter the directory of the colrev project\n",
    "cd ../colrev\n",
    "# Check the status of the project\n",
    "colrev status"
   ]
  },
  {
   "cell_type": "markdown",
   "id": "c242e9f8",
   "metadata": {},
   "source": [
    "<details><summary {style='color:green;font-weight:bold'}>Check</summary>\n",
    "\n",
    "The `git status` command should print something like the following:\n",
    "\n",
    "```python\n",
    "\n",
    "On branch main\n",
    "Your branch is up to date with 'origin/main'.\n",
    "\n",
    "nothing to commit, working tree clean\n",
    "\n",
    "```\n",
    "\n",
    "The last line indicates that there are no changes in the staging area (nothing to commit). The working directory has the same content as the last version in the git repository (working tree clean).\n",
    "\n",
    "</details>"
   ]
  },
  {
   "cell_type": "markdown",
   "id": "4fccac61",
   "metadata": {},
   "source": [
    "## Task 2: Create, stage, and commit changes <a id=\"task-2\"></a>\n",
    "\n",
    "Next, we modify files (state: **untracked**/**modified**), mark them to be in the next commit (state: **staged**) and create the first version (state: **committed**). This corresponds to the three sections of a Git project.\n",
    "\n",
    "**Task**: Open the `README.md` file in the colrev repository (`shift` + double click to open in a separate tab) and add your name to the list of contributors (`# Contributors` section)."
   ]
  },
  {
   "cell_type": "code",
   "execution_count": null,
   "id": "129312aa",
   "metadata": {},
   "outputs": [],
   "source": [
    "# Check the `git status` between each command\n",
    "git status"
   ]
  },
  {
   "cell_type": "markdown",
   "id": "867a5a3c",
   "metadata": {},
   "source": [
    "**Task**: Open the `CONTRIBUTING.md` file and change it.\n"
   ]
  },
  {
   "cell_type": "markdown",
   "id": "666e29cd",
   "metadata": {},
   "source": [
    "\n",
    "\n",
    "The `git status` should now show two files with changes in the working directory (state: **modified**)\n",
    "\n",
    "</details>"
   ]
  },
  {
   "cell_type": "markdown",
   "id": "13966e9e",
   "metadata": {},
   "source": [
    "\n",
    "We decide that the changes in the `README.md` file should be **staged** for the next commit. The changes in the `CONTRIBUTING.md` file are no longer needed.\n",
    "\n",
    "**Task**: Use the commands suggested by `git status` to accomplish this.\n",
    "\n",
    "This means that changes in the README.md are **staged** (to be committed)."
   ]
  },
  {
   "cell_type": "markdown",
   "id": "fc2bcb13",
   "metadata": {},
   "source": [
    "<details><summary {style='color:green;font-weight:bold'}>Check</summary>\n",
    "\n",
    "The `git status` should now display \n",
    "\n",
    "```python\n",
    "On branch main\n",
    "Your branch is up to date with 'origin/main'.\n",
    "\n",
    "Changes to be committed:\n",
    "  (use \"git restore --staged <file>...\" to unstage)\n",
    "\tmodified:   README.md\n",
    "\n",
    "```\n",
    "\n",
    "</details>\n"
   ]
  },
  {
   "cell_type": "markdown",
   "id": "c2668623",
   "metadata": {},
   "source": [
    "To **commit** the changes, we run"
   ]
  },
  {
   "cell_type": "code",
   "execution_count": null,
   "id": "c9001f11",
   "metadata": {},
   "outputs": [],
   "source": [
    "git commit -m 'add contributor'"
   ]
  },
  {
   "cell_type": "markdown",
   "id": "0beaa9af",
   "metadata": {},
   "source": [
    "\n",
    "The `-m 'add contributor'` adds a short summary message, which is expected for every commit."
   ]
  },
  {
   "cell_type": "markdown",
   "id": "2a3fec5e",
   "metadata": {},
   "source": [
    "<details><summary {style='color:green;font-weight:bold'}>Check</summary>\n",
    "\n",
    "`git status` should reflect your expected state of files in the three Git sections.\n",
    "\n",
    "</details>"
   ]
  },
  {
   "cell_type": "markdown",
   "id": "a594d99a",
   "metadata": {},
   "source": [
    "## Task 3: Undo committed changes <a id=\"task-3\"></a>\n",
    "\n",
    "To undo the last commit, we can simply run:"
   ]
  },
  {
   "cell_type": "code",
   "execution_count": null,
   "id": "ddc9ebf2",
   "metadata": {},
   "outputs": [],
   "source": [
    "git reset --soft HEAD~1"
   ]
  },
  {
   "cell_type": "markdown",
   "id": "9d7d7d14",
   "metadata": {},
   "source": [
    "You should now have the `README.md` file in the staging area again.\n",
    "\n",
    "*Note*: the `HEAD~1` refers to the last commit.\n",
    "\n",
    "**Task**: Run `git status` to see the changes."
   ]
  },
  {
   "cell_type": "markdown",
   "id": "2509eba7",
   "metadata": {},
   "source": [
    "We decide to discard our changes.\n",
    "\n",
    "**Task**: Use the commands suggested by `git status` to do that.\n",
    "\n",
    "<details><summary {style='color:green;font-weight:bold'}>Check</summary>\n",
    "\n",
    "The `git status` should show the following:\n",
    "\n",
    "```\n",
    "On branch main\n",
    "nothing to commit, working tree clean\n",
    "```\n",
    "\n",
    "</details>"
   ]
  },
  {
   "cell_type": "markdown",
   "id": "12165f4c",
   "metadata": {},
   "source": [
    "To analyze the specific changes, open the Git GUI:\n",
    "\n",
    "<img src=\"img/codespace-git-viewer.png\" width=\"800\"/>"
   ]
  },
  {
   "cell_type": "markdown",
   "id": "d007e435",
   "metadata": {},
   "source": [
    "## Task 4: Create atomic commits <a id=\"task-4\"></a>\n",
    "\n",
    "\n",
    "It is good practice to create **atomic commits**, i.e., small changes that belong together. One should avoid large commits that modify many unrelated parts of the code base and pursue different objectives.\n",
    "\n",
    "Analyze the following commits and discuss which ones are atomic and which ones combine changes that do not belong together (i.e., should be in separate commits):\n",
    "\n",
    "- <a href=\"https://github.com/CoLRev-Environment/colrev/commit/a0c9043784f9342136d2ab214513688769669199\" target=\"_blank\">Commit 1</a>\n",
    "- <a href=\"https://github.com/CoLRev-Environment/colrev/commit/5288e92083b6df546d7c8fd590df3e968a909114\" target=\"_blank\">Commit 2</a>\n",
    "- <a href=\"https://github.com/CoLRev-Environment/colrev/commit/ba08d4242f48ec96b4fa8cfd053ee3781e32231f\" target=\"_blank\">Commit 3</a>\n",
    "- <a href=\"https://github.com/CoLRev-Environment/colrev/commit/ce9850f805a140692866970c92557833e6befa0b\" target=\"_blank\">Commit 4</a>\n",
    "- <a href=\"https://github.com/CoLRev-Environment/colrev/commit/93fc7e851d2ba3fc95cc3190b6b71dc4a907c96b\" target=\"_blank\">Commit 5</a>\n",
    "\n",
    "Also check the commit message (short summary at the beginning). Does the message clearly summarize the changes?\n",
    "\n",
    "<details><summary {style='color:green;font-weight:bold'}>Check</summary>\n",
    "\n",
    "**Solution**:\n",
    "\n",
    "- Commit 1: Atomic commit, ok.\n",
    "- Commit 2: Relatively atomic. There are a few changes beyond `compute_language()`. May be improved.\n",
    "- Commit 3: Many files changed. Changes not related to each other. Message refers to refactoring and testing, but the commit also adds functionality.\n",
    "- Commit 4: Many files changed, but the changes belong together. ok.\n",
    "- Commit 5: Atomic commit, ok.\n",
    "\n",
    "It is ok to combine functionality, tests, and docs that belong together in one commit!\n",
    "\n",
    "</details>"
   ]
  },
  {
   "cell_type": "markdown",
   "id": "9b9a5218",
   "metadata": {},
   "source": [
    "To create atomic commits, you may need to **add specific lines of code that should go into a commit**, leaving other changes in the working directory.\n",
    "\n",
    "The changes are provided in the `rec_dict.patch` file, which must be placed in the project's working directory. To apply it, run:"
   ]
  },
  {
   "cell_type": "code",
   "execution_count": null,
   "id": "9e0d4100",
   "metadata": {},
   "outputs": [],
   "source": [
    "# Suggests to rename the method but also introduces unrelated changes.\n",
    "git apply ../practice-git/notebooks/rec_dict.patch\n",
    "# Different files were modified by the patch\n",
    "git status"
   ]
  },
  {
   "cell_type": "markdown",
   "id": "1dcf7120",
   "metadata": {},
   "source": [
    "**Task**: Use the Git GUI to check the changes that were introduced by the patch."
   ]
  },
  {
   "cell_type": "markdown",
   "id": "ae396bf7",
   "metadata": {},
   "source": [
    "In the following, we would like to add *only* the changes in lines related to the `load_records_dict` method and the `skip_notification` parameter (using `-p` for a partial `git add`):"
   ]
  },
  {
   "cell_type": "code",
   "execution_count": null,
   "id": "8c55788d",
   "metadata": {},
   "outputs": [],
   "source": [
    "# Add specific lines of code from the colrev/dataset.py\n",
    "# using y/n to add or skip (confirming with ENTER)\n",
    "git add -p colrev/dataset.py"
   ]
  },
  {
   "cell_type": "markdown",
   "id": "0979ddc8",
   "metadata": {},
   "source": [
    "**Task**: Check whether the correct lines were added! Create a commit containing the relevant changes. Afterwards, discard the remaining changes."
   ]
  },
  {
   "cell_type": "markdown",
   "id": "ca342561",
   "metadata": {},
   "source": [
    "## Task 5: Undo changes (advanced) <a id=\"task-5\"></a>\n",
    "\n",
    "When writing code, we can make mistakes, or we may need to undo or modify previous changes. To undo changes, it is important to understand whether they are unstaged, staged, or committed.\n",
    "\n",
    "To **undo unstaged or staged changes**, `git status` suggests the corresponding operations (`git restore <file>` and `git restore --staged <file>`). \n",
    "\n",
    "**Task**: To see how `git restore` works:\n",
    "\n",
    "- Modify the `README.md` file and add the changes to the staging area\n",
    "- Undo the staged changes\n",
    "- Undo the unstaged changes"
   ]
  },
  {
   "cell_type": "markdown",
   "id": "27d01550",
   "metadata": {},
   "source": [
    "<details><summary {style='color:green;font-weight:bold'}>Check</summary>\n",
    "\n",
    "The working directory should be clean again.\n",
    "\n",
    "</details>"
   ]
  },
  {
   "cell_type": "markdown",
   "id": "17aaad8d",
   "metadata": {},
   "source": [
    "To **undo committed changes**, there several options:\n",
    "\n",
    "- Revert the commit, i.e., create a new commit to undo changes: `git revert COMMIT_SHA --no-edit`\n",
    "- Undo the commit and leave the changes in the staging area: `git reset --soft COMMIT_SHA` (*)\n",
    "- Stage changes, and run `git commit --amend` to modify the last commit (*)\n",
    "\n",
    "If you have the time, try the different undo operations in the session.\n",
    "\n",
    "(*) Important: only amend commits that are not yet shared with the team. Otherwise, revert is preferred.\n"
   ]
  },
  {
   "cell_type": "markdown",
   "id": "9e7d4afe",
   "metadata": {},
   "source": [
    "---\n",
    "\n",
    "## Wrap-up  <a id=\"wrap-up\"></a>\n",
    "\n",
    "🎉🎈 You have completed the Git commit notebook - good work! 🎈🎉\n",
    "\n",
    "In this notebook, we have learned to\n",
    "\n",
    "- Clone a repository and check the `git status`\n",
    "- Create, stage, and commit changes using `git add`, `git commit` and `git restore`\n",
    "- Create atomic commits\n",
    "- Undo changes\n",
    "- Navigate Visualstudio Code on GitHub Codespaces\n",
    "\n",
    "Remember to delete your codespace [here](https://github.com/codespaces):\n",
    "\n",
    "<img src=\"img/codespace-delete.png\" width=\"800\"/>"
   ]
  }
 ],
 "metadata": {
  "kernelspec": {
   "display_name": "Python 3 (ipykernel)",
   "language": "python",
   "name": "python3"
  },
  "language_info": {
   "codemirror_mode": {
    "name": "ipython",
    "version": 3
   },
   "file_extension": ".py",
   "mimetype": "text/x-python",
   "name": "python",
   "nbconvert_exporter": "python",
   "pygments_lexer": "ipython3",
   "version": "3.9.20"
  }
 },
 "nbformat": 4,
 "nbformat_minor": 5
}
