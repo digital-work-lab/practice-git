{
 "cells": [
  {
   "cell_type": "markdown",
   "id": "0ff7b136",
   "metadata": {},
   "source": [
    "# Exercise notebook: Git branching\n",
    "\n",
    "[![Offered by: Digital Work at Otto-Friedrich-Universität Bamberg](https://img.shields.io/badge/Offered%20by-%20Digital%20Work%20(Otto--Friedrich--Universit%C3%A4t%20Bamberg)-blue)](https://digital-work-lab.github.io/open-source-project/)\n",
    "![License: CC BY 4.0](https://img.shields.io/badge/License-CC%20BY%204.0-green.svg)\n",
    "\n",
    "<img src=\"img/iconmonstr-certificate-6.svg\" alt=\"Edit\" width=\"16\" height=\"16\">  The notebook builds on our peer-reviewed <a href=\"iconmonstr-certificate-6.svg\">pedagogical foundations</a>.\n",
    "\n",
    "We  <img src=\"img/iconmonstr-favorite-2.svg\" alt=\"Edit\" width=\"12\" height=\"12\">  your <a href=\"https://github.com/digital-work-lab/practice-git/issues/new/choose\" target=\"_blank\">feedback</a> and <a href=\"https://github.com/digital-work-lab/practice-git/edit/main/notebooks/git_committing.ipynb\" target=\"_blank\">suggestions</a> on this notebook!\n",
    "\n",
    "The interactive visualization and tutorial are based on the amazing [learnGitBranching](https://github.com/pcottle/learnGitBranching) repository.\n",
    "\n",
    "---"
   ]
  },
  {
   "cell_type": "markdown",
   "id": "73e5334c",
   "metadata": {},
   "source": [
    "With this notebook, you can practice branching in Git.\n",
    "\n",
    "\n",
    "| Task | Label                                           | Time (min) |\n",
    "|------|-------------------------------------------------|------------|\n",
    "|  1   | [Commit, branch, merge, rebase](#task-1)        | 15         |\n",
    "|      | Overall                                         | 90         |\n",
    "\n",
    "\n",
    "<img src=\"img/iconmonstr-help-6.svg\" alt=\"Edit\" width=\"12\" height=\"12\"> We are here to help if errors or questions come up!\n",
    "\n",
    "<br>\n",
    "\n",
    "---"
   ]
  },
  {
   "cell_type": "markdown",
   "id": "92b5e0f0",
   "metadata": {},
   "source": [
    "## Task 1: Commit, branch, merge, rebase <a id=\"task-1\"></a>\n",
    "\n",
    "We start with level 1 of the following tutorial.\n",
    "\n",
    "- You can always type `undo` to undo the last command\n",
    "- You can run `git commit` without specifying a commit message.\n",
    "\n",
    "To start the tutorial, run the following code cell and confirm the environment."
   ]
  },
  {
   "cell_type": "code",
   "execution_count": 1,
   "id": "be3861d6",
   "metadata": {},
   "outputs": [
    {
     "data": {
      "text/html": [
       "\n",
       "        <iframe\n",
       "            width=\"1400\"\n",
       "            height=\"800\"\n",
       "            src=\"https://learngitbranching.js.org/\"\n",
       "            frameborder=\"0\"\n",
       "            allowfullscreen\n",
       "            \n",
       "        ></iframe>\n",
       "        "
      ],
      "text/plain": [
       "<IPython.lib.display.IFrame at 0x7fee1c2e4ee0>"
      ]
     },
     "execution_count": 1,
     "metadata": {},
     "output_type": "execute_result"
    }
   ],
   "source": [
    "from IPython.display import IFrame\n",
    "\n",
    "IFrame('https://learngitbranching.js.org/', width=1400, height=800)"
   ]
  },
  {
   "cell_type": "markdown",
   "id": "c91f3ad2",
   "metadata": {},
   "source": [
    "# TODO : \n",
    "- efficient implementation (maybe: advanced: try it in the shell?)\n",
    "- exercise: differences between merge commits, rebases and squashed merges\n",
    "- Branching strategies (have students examine repositories with different branching strategies)\n",
    "- Quizzes?"
   ]
  },
  {
   "cell_type": "markdown",
   "id": "9e7d4afe",
   "metadata": {},
   "source": [
    "---\n",
    "\n",
    "# Wrap-up\n",
    "\n",
    "🎉🎈 You have completed the Git branching notebook - good work! 🎈🎉\n",
    "\n",
    "In this notebook, we have learned\n",
    "\n",
    "- To create a given Git graph (the directed-acyclic graph, DAG) using commit, branch, switch, merge\n",
    "- The efficient implementation of branches as simple pointers\n",
    "- The differences between merge commits, rebases, and squashed merges\n",
    "- Differences between branching strategies"
   ]
  }
 ],
 "metadata": {
  "kernelspec": {
   "display_name": "Python 3 (ipykernel)",
   "language": "python",
   "name": "python3"
  },
  "language_info": {
   "codemirror_mode": {
    "name": "ipython",
    "version": 3
   },
   "file_extension": ".py",
   "mimetype": "text/x-python",
   "name": "python",
   "nbconvert_exporter": "python",
   "pygments_lexer": "ipython3",
   "version": "3.9.20"
  }
 },
 "nbformat": 4,
 "nbformat_minor": 5
}
