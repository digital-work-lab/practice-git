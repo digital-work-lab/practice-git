{
 "cells": [
  {
   "cell_type": "markdown",
   "id": "0ff7b136",
   "metadata": {},
   "source": [
    "# Exercise notebook: Git branching\n",
    "\n",
    "[![Offered by: Digital Work at Otto-Friedrich-Universität Bamberg](https://img.shields.io/badge/Offered%20by-%20Digital%20Work%20(Otto--Friedrich--Universit%C3%A4t%20Bamberg)-blue)](https://digital-work-lab.github.io/open-source-project/)\n",
    "![License: CC BY 4.0](https://img.shields.io/badge/License-CC%20BY%204.0-green.svg)\n",
    "\n",
    "<img src=\"img/iconmonstr-certificate-6.svg\" alt=\"Edit\" width=\"16\" height=\"16\">  The notebook builds on our peer-reviewed <a href=\"iconmonstr-certificate-6.svg\">pedagogical foundations</a>.\n",
    "\n",
    "We  <img src=\"img/iconmonstr-favorite-2.svg\" alt=\"Edit\" width=\"12\" height=\"12\">  your <a href=\"https://github.com/digital-work-lab/practice-git/issues/new/choose\" target=\"_blank\">feedback</a> and <a href=\"https://github.com/digital-work-lab/practice-git/edit/main/notebooks/git_committing.ipynb\" target=\"_blank\">suggestions</a> on this notebook!\n",
    "\n",
    "The interactive visualization and tutorial are based on the amazing [learnGitBranching](https://github.com/pcottle/learnGitBranching) repository.\n",
    "\n",
    "---"
   ]
  },
  {
   "cell_type": "markdown",
   "id": "73e5334c",
   "metadata": {},
   "source": [
    "With this notebook, you can practice branching in Git.\n",
    "\n",
    "\n",
    "| Task | Label                                           | Time (min) |\n",
    "|------|-------------------------------------------------|------------|\n",
    "|  1   | [Commit, branch, merge, rebase](#task-1)        | 30         |\n",
    "|  2   | [Methods to integrate changes](#task-2)         | 20         |\n",
    "|      | **Overall**                                         | **50**         |\n",
    "\n",
    "\n",
    "<img src=\"img/iconmonstr-help-6.svg\" alt=\"Edit\" width=\"12\" height=\"12\"> We are here to help if errors or questions come up!\n",
    "\n",
    "<br>\n",
    "\n",
    "---"
   ]
  },
  {
   "cell_type": "markdown",
   "id": "92b5e0f0",
   "metadata": {},
   "source": [
    "## Task 1: Commit, branch, merge, rebase <a id=\"task-1\"></a>\n",
    "\n",
    "We start with level 1 of the following tutorial.\n",
    "\n",
    "- You can always type `undo` to undo the last command\n",
    "- You can run `git commit` without specifying a commit message.\n",
    "\n",
    "To start the tutorial, run the following code cell and confirm the environment."
   ]
  },
  {
   "cell_type": "code",
   "execution_count": 1,
   "id": "be3861d6",
   "metadata": {},
   "outputs": [
    {
     "data": {
      "text/html": [
       "\n",
       "        <iframe\n",
       "            width=\"1400\"\n",
       "            height=\"800\"\n",
       "            src=\"https://learngitbranching.js.org/\"\n",
       "            frameborder=\"0\"\n",
       "            allowfullscreen\n",
       "            \n",
       "        ></iframe>\n",
       "        "
      ],
      "text/plain": [
       "<IPython.lib.display.IFrame at 0x7fee1c2e4ee0>"
      ]
     },
     "execution_count": 1,
     "metadata": {},
     "output_type": "execute_result"
    }
   ],
   "source": [
    "from IPython.display import IFrame\n",
    "\n",
    "IFrame('https://learngitbranching.js.org/', width=1400, height=800)"
   ]
  },
  {
   "cell_type": "markdown",
   "id": "0e2b0d28",
   "metadata": {},
   "source": [
    "## Challenge\n",
    "\n",
    "To continue practicing, create the following tree, which resembles a typical setup of git branches. To do this, you can open [learngitbranching](https://learngitbranching.js.org/?locale=de_DE) in a separate window.\n",
    "\n",
    "![width:300px center](img/git-branches.png)\n",
    "\n",
    "<details><summary {style='color:green;font-weight:bold'}>Check</summary>\n",
    "\n",
    "The following commands produce this particular graph:\n",
    "\n",
    "```text\n",
    "git commit\n",
    "git commit\n",
    "git checkout c1\n",
    "git checkout-b hotfix\n",
    "git commit\n",
    "git checkout main\n",
    "git merge hotfix\n",
    "git checkout c1\n",
    "git checkout -b dev\n",
    "git commit\n",
    "git commit\n",
    "git checkout c6\n",
    "git checkout -b feature\n",
    "git commit\n",
    "git commit\n",
    "git checkout dev\n",
    "git merge feature\n",
    "git checkout main\n",
    "git merge dev\n",
    "\n",
    "```\n",
    "</details>\n"
   ]
  },
  {
   "cell_type": "markdown",
   "id": "6d31782e",
   "metadata": {},
   "source": [
    "# Task 2: Methods to integrate changes from one branch into another <a id=\"task-2\"></a>\n",
    "\n",
    "If two branches have **not diverged**, Git will perform a **fast-forward merge** when running `git merge other-branch`:\n",
    "\n",
    "<img src=\"img/fast-forward-merge.gif\" width=\"600px\">\n",
    "\n",
    "When two branches have **diverged**, users have three options to integrate the changes from one branch into another:\n",
    "\n",
    "- Create a merge commit\n",
    "- Rebase the branch\n",
    "- Squash the changes (not available as a learngitbranching animation)\n",
    "\n",
    "<!-- https://www.atlassian.com/git/tutorials/merging-vs-rebasing -->\n",
    "\n",
    "<img src=\"img/merge-commit.gif\" width=\"600px\">\n",
    "<img src=\"img/merge-rebase.gif\" width=\"600px\">\n",
    "\n",
    "Note: GitHub offers these options to merge pull requests:\n",
    "\n",
    "<img src=\"img/github-pull-request.png\" width=\"600px\">"
   ]
  },
  {
   "cell_type": "markdown",
   "id": "80ae67c2",
   "metadata": {},
   "source": [
    "Task: Apply the different methods for integrating changes based on the following example:"
   ]
  },
  {
   "cell_type": "code",
   "execution_count": null,
   "id": "5ee19ce7",
   "metadata": {},
   "outputs": [],
   "source": [
    "# Setup: Clone the repository and set up the quality_model_docs branch \n",
    "\n",
    "cd ..\n",
    "git clone https://github.com/CoLRev-Environment/colrev\n",
    "cd colrev\n",
    "git checkout 108d278e8d01a65c5128c4a880247f0272896059\n",
    "git switch -c quality_model_docs\n",
    "code -a /workspaces/colrev\n",
    "# Reopen the notebook\n",
    "code /workspaces/practice-git/notebooks/git_branching.ipynb"
   ]
  },
  {
   "cell_type": "markdown",
   "id": "d33dc126",
   "metadata": {},
   "source": [
    "# Option 1: merge commit (or fast forward)\n",
    "\n",
    "git switch main\n",
    "git reset --hard  6f4299bdb0551c680a97dbe04b39dee51bcd0556\n",
    "git merge quality_model_docs\n",
    "\n",
    "# Option 2: squash\n",
    "\n",
    "git switch main\n",
    "git reset --hard  6f4299bdb0551c680a97dbe04b39dee51bcd0556\n",
    "git merge --squash quality_model_docs\n",
    "git commit -n -m 'update docs for quality_model'\n",
    "\n",
    "# Option 3: rebase\n",
    "\n",
    "git switch main\n",
    "git reset --hard  6f4299bdb0551c680a97dbe04b39dee51bcd0556\n",
    "git switch quality_model_docs\n",
    "git rebase main\n",
    "git switch main\n",
    "git merge quality_model_docs"
   ]
  },
  {
   "cell_type": "code",
   "execution_count": null,
   "id": "5dfef70c",
   "metadata": {},
   "outputs": [],
   "source": []
  },
  {
   "cell_type": "markdown",
   "id": "35b6cd0a",
   "metadata": {},
   "source": [
    "# TODO\n",
    "\n",
    "- move to cellls, ask students to take notes on the git graph\n",
    "- update the table\n",
    "- Note: all options are available for pull requests on Github."
   ]
  },
  {
   "cell_type": "markdown",
   "id": "c91f3ad2",
   "metadata": {},
   "source": [
    "# TODO : \n",
    "- efficient implementation (maybe: advanced: try it in the shell?)\n",
    "- exercise: differences between merge commits, rebases and squashed merges\n",
    "- Branching strategies (have students examine repositories with different branching strategies)\n",
    "- Quizzes?"
   ]
  },
  {
   "cell_type": "markdown",
   "id": "9e7d4afe",
   "metadata": {},
   "source": [
    "---\n",
    "\n",
    "# Wrap-up\n",
    "\n",
    "🎉🎈 You have completed the Git branching notebook - good work! 🎈🎉\n",
    "\n",
    "In this notebook, we have learned\n",
    "\n",
    "- To create a given Git graph (the directed-acyclic graph, DAG) using commit, branch, switch, merge\n",
    "- The efficient implementation of branches as simple pointers\n",
    "- The differences between merge commits, rebases, and squashed merges\n",
    "- Differences between branching strategies"
   ]
  }
 ],
 "metadata": {
  "kernelspec": {
   "display_name": "Python 3 (ipykernel)",
   "language": "python",
   "name": "python3"
  },
  "language_info": {
   "codemirror_mode": {
    "name": "ipython",
    "version": 3
   },
   "file_extension": ".py",
   "mimetype": "text/x-python",
   "name": "python",
   "nbconvert_exporter": "python",
   "pygments_lexer": "ipython3",
   "version": "3.9.20"
  }
 },
 "nbformat": 4,
 "nbformat_minor": 5
}
