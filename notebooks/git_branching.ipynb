{
 "cells": [
  {
   "cell_type": "markdown",
   "id": "0ff7b136",
   "metadata": {},
   "source": [
    "# Exercise notebook: Git branching\n",
    "\n",
    "[![Offered by: Digital Work at Otto-Friedrich-Universität Bamberg](https://img.shields.io/badge/Offered%20by-%20Digital%20Work%20(Otto--Friedrich--Universit%C3%A4t%20Bamberg)-blue)](https://digital-work-lab.github.io/open-source-project/)\n",
    "![License: CC BY 4.0](https://img.shields.io/badge/License-CC%20BY%204.0-green.svg)\n",
    "\n",
    "<img src=\"img/iconmonstr-certificate-6.svg\" alt=\"Edit\" width=\"16\" height=\"16\">  The notebook builds on our peer-reviewed <a href=\"iconmonstr-certificate-6.svg\">pedagogical foundations</a>.\n",
    "\n",
    "We  <img src=\"img/iconmonstr-favorite-2.svg\" alt=\"Edit\" width=\"12\" height=\"12\">  your <a href=\"https://github.com/digital-work-lab/practice-git/issues/new/choose\" target=\"_blank\">feedback</a> and <a href=\"https://github.com/digital-work-lab/practice-git/edit/main/notebooks/git_committing.ipynb\" target=\"_blank\">suggestions</a> on this notebook!\n",
    "\n",
    "The interactive visualization and tutorial are based on the amazing [learnGitBranching](https://github.com/pcottle/learnGitBranching) repository.\n",
    "\n",
    "---"
   ]
  },
  {
   "cell_type": "markdown",
   "id": "73e5334c",
   "metadata": {},
   "source": [
    "With this notebook, you can practice branching in Git.\n",
    "\n",
    "\n",
    "| Task | Label                                           | Time (min) |\n",
    "|------|-------------------------------------------------|------------|\n",
    "|  1   | [Commit, branch, merge, rebase](#task-1)        | 20         |\n",
    "|  2   | [Methods to integrate changes](#task-2)         | 30         |\n",
    "|  3   | [Understanding branching strategies](#task-3)   | 10         |\n",
    "|      | **Overall**                                     | **60**     |\n",
    "\n",
    "\n",
    "<img src=\"img/iconmonstr-help-6.svg\" alt=\"Edit\" width=\"12\" height=\"12\"> We are here to help if errors or questions come up!\n",
    "\n",
    "<br>\n",
    "\n",
    "---"
   ]
  },
  {
   "cell_type": "markdown",
   "id": "92b5e0f0",
   "metadata": {},
   "source": [
    "## Task 1: Commit, branch, merge, rebase <a id=\"task-1\"></a>\n",
    "\n",
    "We have covered commits, as well as `git branch`, `git switch`, and `git merge` operations in the <a href=\"https://digital-work-lab.github.io/open-source-project/output/02-git.html#6\" target=\"_blank\">lecture</a>.\n",
    "\n",
    "To practice branching and manipulating the Git graph, we start with level 1 of the [learngitbranching](https://learngitbranching.js.org/?locale=de_DE) tutorial.\n",
    "\n",
    "- You can always type `undo` to undo the last command\n",
    "- You can run `git commit` without specifying a commit message.\n",
    "\n",
    "<!--\n",
    "To start the tutorial, run the following code cell and confirm the environment.\n",
    "from IPython.display import IFrame\n",
    "\n",
    "IFrame('https://learngitbranching.js.org/', width=1400, height=800)\n",
    "-->"
   ]
  },
  {
   "cell_type": "markdown",
   "id": "0e2b0d28",
   "metadata": {},
   "source": [
    "## Challenge\n",
    "\n",
    "To continue practicing, create the following tree, which resembles a typical setup of git branches. To do this, you can open [learngitbranching](https://learngitbranching.js.org/?locale=de_DE) in a separate window.\n",
    "\n",
    "![width:300px center](img/git-branches.png)\n",
    "\n",
    "<details><summary {style='color:green;font-weight:bold'}>Check</summary>\n",
    "\n",
    "The following commands produce this particular graph:\n",
    "\n",
    "```text\n",
    "git commit\n",
    "git commit\n",
    "git checkout c1\n",
    "git checkout-b hotfix\n",
    "git commit\n",
    "git checkout main\n",
    "git merge hotfix\n",
    "git checkout c1\n",
    "git checkout -b dev\n",
    "git commit\n",
    "git commit\n",
    "git checkout c6\n",
    "git checkout -b feature\n",
    "git commit\n",
    "git commit\n",
    "git checkout dev\n",
    "git merge feature\n",
    "git checkout main\n",
    "git merge dev\n",
    "\n",
    "```\n",
    "</details>\n"
   ]
  },
  {
   "cell_type": "markdown",
   "id": "6d31782e",
   "metadata": {},
   "source": [
    "# Task 2: Methods to integrate changes from one branch into another <a id=\"task-2\"></a>\n",
    "\n",
    "When running `git merge other-branch`, there are two options:\n",
    "\n",
    "- If two branches have **not diverged**, Git will perform a **fast-forward merge**:\n",
    "\n",
    "<img src=\"img/fast-forward-merge.gif\" width=\"600px\">\n",
    "\n",
    "- A more common case is when two branches have **diverged**, i.e., each branch has commits that the other branch does not have. In this case, Git will create a merge commit:\n",
    "\n",
    "<img src=\"img/merge-commit.gif\" width=\"600px\">\n",
    "\n",
    "In addition to `git merge`, users also have the option to rebase changes.\n",
    "This preserves a *linear version history* in the target branch instead of cluttering it with an array of merge commits:\n",
    "\n",
    "<!-- https://www.atlassian.com/git/tutorials/merging-vs-rebasing -->\n",
    "\n",
    "<img src=\"img/merge-rebase.gif\" width=\"600px\">\n",
    "\n",
    "<!-- \n",
    "- Squash the changes (not available as a learngitbranching animation)\n",
    "\n",
    "Note: GitHub offers these options to merge pull requests:\n",
    "\n",
    "<img src=\"img/github-pull-request.png\" width=\"600px\">\n",
    "-->\n",
    "\n",
    "In addition, there is the option to \"squash\" changes from another branch. This effectively combines all changes from the other branch in a single commit, which is added on top of the target branch."
   ]
  },
  {
   "cell_type": "markdown",
   "id": "db45c236",
   "metadata": {},
   "source": [
    "We will now practice the different methods in a real Git repository.\n",
    "\n",
    "<div style=\"border: 2px solid #ff9800; padding: 10px; background-color: #ffe0b2; color: #e65100; border-radius: 5px; display: inline-block; width: fit-content;\">\n",
    "    <strong>Important:</strong> Make sure to copy the commands and enter them in the shell as shown in the screenshot. It is not possible to run the cells in this notebook.\n",
    "</div>\n",
    "\n",
    "<div style=\"clear: both;\"></div>\n",
    "\n",
    "<img src=\"img/codespace-shell.png\" width=\"800\"/>\n",
    "\n",
    "**Task**: To clone the repository and set up the quality_model_docs branch.\n",
    "\n",
    "<div style=\"border: 2px solid #03a9f4; padding: 10px; background-color: #b3e5fc; color: #01579b; border-radius: 5px; display: inline-block; width: fit-content;\">\n",
    "    <strong>Info</strong> The last command will reopen the codespace window and add the new project to the sidebar. You will have to navigate to this notebook again.\n",
    "</div>"
   ]
  },
  {
   "cell_type": "code",
   "execution_count": null,
   "id": "bdcd1394",
   "metadata": {
    "vscode": {
     "languageId": "plaintext"
    }
   },
   "outputs": [],
   "source": [
    "cd .. && git clone https://github.com/CoLRev-Environment/colrev && cd colrev\n",
    "code -a /workspaces/colrev\n"
   ]
  },
  {
   "cell_type": "markdown",
   "id": "50b15a38",
   "metadata": {},
   "source": [
    "After the restart of your Codespace, complete the setup.\n",
    "\n",
    "The `colrev` repository should now be displayed in the Explorer."
   ]
  },
  {
   "cell_type": "code",
   "execution_count": null,
   "id": "085a0fb5",
   "metadata": {
    "vscode": {
     "languageId": "plaintext"
    }
   },
   "outputs": [],
   "source": [
    "cd ../colrev\n",
    "git checkout 108d278e8d01a65c5128c4a880247f0272896059\n",
    "git switch -c quality_model_docs\n",
    "# Remove the origin for better readability of the Git viewer\n",
    "git remote remove origin"
   ]
  },
  {
   "cell_type": "markdown",
   "id": "833d6242",
   "metadata": {},
   "source": [
    "**Task**: Go through the following options, and run the commands. Open the SourceControl panel on the left. Take notes on the Git graph, i.e., the structure and IDs of commits, by completing the three Git graphs (open as [PDF](img/overview-task.pdf)):\n",
    "\n",
    "<img src=\"img/overview-task.png\" width=\"800\"/>\n"
   ]
  },
  {
   "cell_type": "markdown",
   "id": "1d5cbc19",
   "metadata": {},
   "source": [
    "### Option 1: Merge commit"
   ]
  },
  {
   "cell_type": "code",
   "execution_count": null,
   "id": "671c1ca0",
   "metadata": {
    "vscode": {
     "languageId": "plaintext"
    }
   },
   "outputs": [],
   "source": [
    "git switch main\n",
    "git reset --hard  6f4299bdb0551c680a97dbe04b39dee51bcd0556\n",
    "git merge quality_model_docs"
   ]
  },
  {
   "cell_type": "markdown",
   "id": "305c34dc",
   "metadata": {},
   "source": [
    "### Option 2: Rebase"
   ]
  },
  {
   "cell_type": "code",
   "execution_count": null,
   "id": "bbc9c9ae",
   "metadata": {
    "vscode": {
     "languageId": "plaintext"
    }
   },
   "outputs": [],
   "source": [
    "git switch main\n",
    "git reset --hard  6f4299bdb0551c680a97dbe04b39dee51bcd0556\n",
    "git switch quality_model_docs\n",
    "git rebase main\n",
    "git switch main\n",
    "git merge quality_model_docs"
   ]
  },
  {
   "cell_type": "markdown",
   "id": "02010835",
   "metadata": {},
   "source": [
    "### Option 3: Squash"
   ]
  },
  {
   "cell_type": "code",
   "execution_count": null,
   "id": "7b9b2e14",
   "metadata": {
    "vscode": {
     "languageId": "plaintext"
    }
   },
   "outputs": [],
   "source": [
    "git switch main\n",
    "git reset --hard  6f4299bdb0551c680a97dbe04b39dee51bcd0556\n",
    "git merge --squash quality_model_docs\n",
    "git commit -n -m 'update docs for quality_model"
   ]
  },
  {
   "cell_type": "markdown",
   "id": "ad3ef0a1",
   "metadata": {},
   "source": [
    "**Task**: Compare the three Git graphs and the commit IDs. What are the differences between the three methods in terms of the contents of commits and their metadata?\n",
    "\n",
    "<details><summary {style='color:green;font-weight:bold'}>Check</summary>\n",
    "\n",
    "**Solution**\n",
    "\n",
    "- In method 1 (merge commit), there is one merge commit with two predecessors.\n",
    "- In method 2 (rebase), the individual commits from the quality branch are \"replayed\" on top of the main branch.\n",
    "- In method 3 (squash), all changes from the original quality branch are combined in a single commit, which is added on top of the main branch.\n",
    "- The contents of the last commit are identical across all three methods.\n",
    "- Each of the new commits has your account as the author, and the curent date.\n",
    "\n",
    "Note: All three methods change the state of the `main` branch. None changes the state of the `quality` branch. The commit-IDs in your solution will differ.\n",
    "\n",
    "<img src=\"img/overview-task_solution.png\" width=\"800\"/>\n",
    "\n",
    "</details>"
   ]
  },
  {
   "cell_type": "markdown",
   "id": "28cad4dc",
   "metadata": {},
   "source": [
    "**Question**: why does the merge commit always have a different ID if another student creates it or if you run the same commands a few seconds later?\n",
    "\n",
    "<details><summary {style='color:green;font-weight:bold'}>Check</summary>\n",
    "\n",
    "**Solution**\n",
    "\n",
    "The commit object always contains the commit author and date. If they are different, Git generates a different commit SHA from the content and metadata.\n",
    "\n",
    "</details>"
   ]
  },
  {
   "cell_type": "markdown",
   "id": "c0df16ec",
   "metadata": {},
   "source": [
    "*Note*: You can use the merge methods in a Codespace environment (as you just did), in a local git repository, and even in online pull requests (e.g., on GitHub):\n",
    "\n",
    "<img src=\"img/pull-request-options.png\" width=\"800\"/>"
   ]
  },
  {
   "cell_type": "markdown",
   "id": "c91f3ad2",
   "metadata": {},
   "source": [
    "# Task 3: Understanding branching strategies <a id=\"task-3\"></a>\n",
    "\n",
    "Analyze the Git graph with the different branches. Explain what happens as the project progresses.\n",
    "\n",
    "<!--\n",
    "- Branching strategies (have students examine repositories with different branching strategies)\n",
    "https://tilburgsciencehub.com/topics/automation/version-control/advanced-git/git-branching-strategies/\n",
    "-->\n",
    "\n",
    "<img src=\"img/git-flow.png\" width=\"800\"/>\n",
    "\n",
    "<details><summary {style='color:green;font-weight:bold'}>Check</summary>\n",
    "\n",
    "**Solution**\n",
    "\n",
    "- the project has two parallel branches: main and develop. main has stable releases and urgent hotfixes (e.g., to fix bugs)\n",
    "- The development branch contains the development activity, more complex tasks are completed in separate \"feature branches\" (one has been merged, another may be under development or be stalled.) Hotfixes are also integrated into the development branch.\n",
    "- To release new versions, the developers create a branch from `develop`, do some pre-release work, and eventually merge it into main.\n",
    "- This setup ensures that the main branch is stable and not affected by untested code.\n",
    "\n",
    "</details>"
   ]
  },
  {
   "cell_type": "markdown",
   "id": "9e7d4afe",
   "metadata": {},
   "source": [
    "---\n",
    "\n",
    "# Wrap-up\n",
    "\n",
    "🎉🎈 You have completed the Git branching notebook - good work! 🎈🎉\n",
    "\n",
    "In this notebook, we have learned\n",
    "\n",
    "- To create a given Git graph (the directed-acyclic graph, DAG) using commit, branch, switch, merge\n",
    "- The differences between merge commits, rebases, and squashed merges\n",
    "- To explain typical branching strategies\n",
    "\n",
    "\n",
    "Remember to delete your codespace [here](https://github.com/codespaces):\n",
    "\n",
    "<img src=\"img/codespace-delete.png\" width=\"800\"/>"
   ]
  }
 ],
 "metadata": {
  "kernelspec": {
   "display_name": "Python 3 (ipykernel)",
   "language": "python",
   "name": "python3"
  },
  "language_info": {
   "codemirror_mode": {
    "name": "ipython",
    "version": 3
   },
   "file_extension": ".py",
   "mimetype": "text/x-python",
   "name": "python",
   "nbconvert_exporter": "python",
   "pygments_lexer": "ipython3",
   "version": "3.9.20"
  }
 },
 "nbformat": 4,
 "nbformat_minor": 5
}
