{
 "cells": [
  {
   "cell_type": "markdown",
   "id": "0ff7b136",
   "metadata": {},
   "source": [
    "# Exercise notebook: Git branching\n",
    "\n",
    "[![Offered by: Digital Work at Otto-Friedrich-Universität Bamberg](https://img.shields.io/badge/Offered%20by-%20Digital%20Work%20(Otto--Friedrich--Universit%C3%A4t%20Bamberg)-blue)](https://digital-work-lab.github.io/open-source-project/)\n",
    "![License: CC BY 4.0](https://img.shields.io/badge/License-CC%20BY%204.0-green.svg)\n",
    "\n",
    "<p style=\"max-width: 800px; margin-left: 0; margin-right: 0; text-align: justify;\"><img src=\"img/iconmonstr-certificate-6.svg\" alt=\"Edit\" width=\"16\" height=\"16\">  The notebook builds on our peer-reviewed <a href=\"iconmonstr-certificate-6.svg\">pedagogical foundations</a>. The interactive visualization and tutorial are based on the amazing <a href=\"https://github.com/pcottle/learnGitBranching\">learnGitBranching</a> repository.</p>\n",
    "\n",
    "<p style=\"max-width: 800px; margin-left: 0; margin-right: 0; text-align: justify;\">We  <img src=\"img/iconmonstr-favorite-2.svg\" alt=\"Edit\" width=\"12\" height=\"12\">  your <a href=\"https://github.com/digital-work-lab/practice-git/issues/new/choose\" target=\"_blank\">feedback</a> and <a href=\"https://github.com/digital-work-lab/practice-git/edit/main/notebooks/git_committing.ipynb\" target=\"_blank\">suggestions</a> on this notebook!</p>\n",
    "\n",
    "---"
   ]
  },
  {
   "cell_type": "markdown",
   "id": "73e5334c",
   "metadata": {},
   "source": [
    "<div style=\"border-left: 4px solid #026e57; background-color: #d0f0e4; padding: 15px; margin: 10px 0; color: #026e57; border-radius: 5px; width:800px;\">\n",
    "    <strong>Concepts: Git branching</strong> <br><br>The slides explaining Git branching are <a href=\"https://digital-work-lab.github.io/open-source-project/output/02-git.html#6\" target=\"_blank\">here</a>.\n",
    "</div>\n",
    "\n",
    "<br>\n",
    "\n",
    "With this notebook, you can practice branching in Git.\n",
    "\n",
    "| Practice | Label                                       | Time (min) |\n",
    "|----------|---------------------------------------------|------------|\n",
    "|  1       | [Commit, branch, merge, rebase](#basics)    | 23         |\n",
    "|  2       | [Branching strategies](#branch)             |  5         |\n",
    "|  3       | [Merge methods](#merge)                     | 40         |\n",
    "|  4       | [Wrap-up](#wrap-up)                         | 2          |\n",
    "|          | **Overall**                                 | **70**     |\n",
    "\n",
    "<img src=\"img/iconmonstr-help-6.svg\" alt=\"Edit\" width=\"12\" height=\"12\"> We are here to help if errors or questions come up!\n",
    "\n",
    "<br>\n",
    "\n",
    "---"
   ]
  },
  {
   "cell_type": "markdown",
   "id": "92b5e0f0",
   "metadata": {},
   "source": [
    "## Part 1: Commit, branch, merge, rebase <a id=\"basics\"></a>\n",
    "\n",
    "<p style=\"max-width: 800px; margin-left: 0; margin-right: 0; text-align: justify;\">We have covered <code>git commit</code>, as well as <code>git branch</code>, <code>git switch</code>, and <code>git merge</code> operations in the lecture.</p>\n",
    "\n",
    "<p style=\"max-width: 800px; margin-left: 0; margin-right: 0; text-align: justify;\"><b>Task</b>: To practice branching and manipulating the Git graph, complete level 1 (introduction) of the <a href=\"https://learngitbranching.js.org/?locale=en_EN\">learngitbranching</a> tutorial.</p>\n",
    "\n",
    "Hints:\n",
    "\n",
    "- You can always type `undo` to undo the last command\n",
    "- You can run `git commit` without specifying a commit message.\n",
    "\n",
    "<details><summary {style='color:green;font-weight:bold'}>Check</summary>\n",
    "\n",
    "<p style=\"max-width: 800px; margin-left: 0; margin-right: 0; text-align: justify;\">The following commands produce this particular graph:</p>\n",
    "\n",
    "```text\n",
    "1:\n",
    "git commit\n",
    "git commit\n",
    "2:\n",
    "3:\n",
    "4:\n",
    "\n",
    "```\n",
    "</details>\n",
    "\n",
    "\n",
    "<!--\n",
    "To start the tutorial, run the following code cell and confirm the environment.\n",
    "from IPython.display import IFrame\n",
    "\n",
    "IFrame('https://learngitbranching.js.org/', width=1400, height=800)\n",
    "-->\n"
   ]
  },
  {
   "cell_type": "markdown",
   "id": "0e2b0d28",
   "metadata": {},
   "source": [
    "### Optional Challenge\n",
    "\n",
    "<p style=\"max-width: 800px; margin-left: 0; margin-right: 0; text-align: justify;\">If you have completed Part 1 quickly, you may continue practicing with the following challenge.</p>\n",
    "\n",
    "<p style=\"max-width: 800px; margin-left: 0; margin-right: 0; text-align: justify;\"><b>Task</b>: To continue practicing, create the following tree, which resembles a typical setup of git branches. To do this, you can open <a href=\"https://learngitbranching.js.org/?locale=en_EN\">learngitbranching</a> in a separate window.</p>\n",
    "\n",
    "<img src=\"img/git-branches.png\" style=\"width: 600px;\" alt=\"Git branches\"/>\n",
    "\n",
    "<div style=\"clear: both;\"></div>\n",
    "\n",
    "<br>\n",
    "\n",
    "<details><summary {style='color:green;font-weight:bold'}>Check</summary>\n",
    "\n",
    "<p style=\"max-width: 800px; margin-left: 0; margin-right: 0; text-align: justify;\">The following commands produce this particular graph:</p>\n",
    "\n",
    "```text\n",
    "git commit\n",
    "git commit\n",
    "git checkout c1\n",
    "git checkout-b hotfix\n",
    "git commit\n",
    "git checkout main\n",
    "git merge hotfix\n",
    "git checkout c1\n",
    "git checkout -b dev\n",
    "git commit\n",
    "git commit\n",
    "git checkout c6\n",
    "git checkout -b feature\n",
    "git commit\n",
    "git commit\n",
    "git checkout dev\n",
    "git merge feature\n",
    "git checkout main\n",
    "git merge dev\n",
    "\n",
    "```\n",
    "</details>\n"
   ]
  },
  {
   "cell_type": "markdown",
   "id": "c91f3ad2",
   "metadata": {},
   "source": [
    "## Part 2: Branching strategies <a id=\"branch\"></a>\n",
    "\n",
    "<p style=\"max-width: 800px; margin-left: 0; margin-right: 0; text-align: justify;\">Analyze the Git graph with the different branches. Explain what happens as the project progresses.</p>\n",
    "\n",
    "<!--\n",
    "- Branching strategies (have students examine repositories with different branching strategies)\n",
    "https://tilburgsciencehub.com/topics/automation/version-control/advanced-git/git-branching-strategies/\n",
    "-->\n",
    "\n",
    "<img src=\"img/git-flow.png\" width=\"800\"/>\n",
    "\n",
    "<div style=\"clear:both;\"></div>\n",
    "\n",
    "<details><summary {style='color:green;font-weight:bold'}>Check</summary>\n",
    "\n",
    "<p style=\"max-width: 800px; margin-left: 0; margin-right: 0; text-align: justify;\"><b>Solution</b></p>\n",
    "\n",
    "<p style=\"max-width: 800px; margin-left: 0; margin-right: 0; text-align: justify;\">- The project has two parallel branches: <b>main</b> and <b>develop</b>. <b>main</b> has stable releases and urgent hotfixes (e.g., to fix bugs).</p>\n",
    "<p style=\"max-width: 800px; margin-left: 0; margin-right: 0; text-align: justify;\">- The <b>development</b> branch contains the development activity, more complex tasks are completed in separate <b>feature branches</b> (one has been merged, another may be under development or be stalled.) Hotfixes are also integrated into the development branch.</p>\n",
    "<p style=\"max-width: 800px; margin-left: 0; margin-right: 0; text-align: justify;\">- To release new versions, the developers create a branch from <b>develop</b>, do some pre-release work, and eventually merge it into main.</p>\n",
    "<p style=\"max-width: 800px; margin-left: 0; margin-right: 0; text-align: justify;\">- This setup ensures that the main branch is stable and not affected by untested code.</p>\n",
    "\n",
    "</details>"
   ]
  },
  {
   "cell_type": "markdown",
   "id": "6d31782e",
   "metadata": {},
   "source": [
    "## Part 3: Merge methods <a id=\"merge\"></a>\n",
    "\n",
    "<p style=\"max-width: 800px; margin-left: 0; margin-right: 0; text-align: justify;\">In this part, we focus on different methods to integrate changes from one branch into another (aka. \"merge methods\").</p>\n",
    "\n",
    "<p style=\"max-width: 800px; margin-left: 0; margin-right: 0; text-align: justify;\">When running <code>git merge other-branch</code>, there are two options:</p>\n",
    "\n",
    "<p style=\"max-width: 800px; margin-left: 0; margin-right: 0; text-align: justify;\">- If two branches have <b>not diverged</b>, Git will perform a <b>fast-forward merge</b>:</p>\n",
    "\n",
    "<img src=\"img/fast-forward-merge.gif\" width=\"800px\">\n",
    "\n",
    "<p style=\"max-width: 800px; margin-left: 0; margin-right: 0; text-align: justify;\">- A more common case is when two branches have <b>diverged</b>, i.e., each branch has commits that the other branch does not have. In this case, Git will create a merge commit:</p>\n",
    "\n",
    "<img src=\"img/merge-commit.gif\" width=\"800px\">\n",
    "\n",
    "<p style=\"max-width: 800px; margin-left: 0; margin-right: 0; text-align: justify;\">In addition to git merge, users also have the option to <b>rebase</b> changes.</p>\n",
    "<p style=\"max-width: 800px; margin-left: 0; margin-right: 0; text-align: justify;\">This preserves a <b>linear</b> version history* in the target branch instead of cluttering it with an array of merge commits:</p>\n",
    "\n",
    "<!-- https://www.atlassian.com/git/tutorials/merging-vs-rebasing -->\n",
    "\n",
    "<img src=\"img/merge-rebase.gif\" width=\"800px\">\n",
    "\n",
    "<!-- \n",
    "- Squash the changes (not available as a learngitbranching animation)\n",
    "\n",
    "Note: GitHub offers these options to merge pull requests:\n",
    "\n",
    "<img src=\"img/github-pull-request.png\" width=\"800px\">\n",
    "-->\n",
    "\n",
    "<p style=\"max-width: 800px; margin-left: 0; margin-right: 0; text-align: justify;\">There is another option: to <b>squash</b> changes from another branch. This effectively combines all changes from the other branch in a single commit, which is added on top of the target branch.</p>"
   ]
  },
  {
   "cell_type": "markdown",
   "id": "db45c236",
   "metadata": {},
   "source": [
    "<p style=\"max-width: 800px; margin-left: 0; margin-right: 0; text-align: justify;\">We will now practice the different methods in a real Git repository.</p>\n",
    "\n",
    "<div style=\"border: 2px solid #ff9800; padding: 10px; background-color: #ffe0b2; color: #e65100; border-radius: 5px; display: inline-block; width: fit-content; width:800px;\">\n",
    "    <strong>Important:</strong> Make sure to copy the commands and enter them in the shell as shown in the screenshot. It is not possible to run the cells in this notebook.\n",
    "    <div style=\"clear: both;\"></div>\n",
    "    <img src=\"img/codespace-shell.png\" width=\"800\"/>\n",
    "</div>\n",
    "\n",
    "<p style=\"max-width: 800px; margin-left: 0; margin-right: 0; text-align: justify;\"><b>Task</b>: Clone the CoLRev repository and set up the <code>quality_model_docs</code> branch, using the following commands.</p>\n",
    "\n",
    "<div style=\"border: 2px solid #03a9f4; padding: 10px; background-color: #b3e5fc; color: #01579b; border-radius: 5px; display: inline-block; width: 800px;\">\n",
    "    <strong>Info</strong> The last command will reopen the codespace window and add the new project to the explorer sidebar. You will have to navigate to this notebook again.\n",
    "</div>"
   ]
  },
  {
   "cell_type": "code",
   "execution_count": null,
   "id": "bdcd1394",
   "metadata": {
    "vscode": {
     "languageId": "plaintext"
    }
   },
   "outputs": [],
   "source": [
    "cd /workspaces && git clone https://github.com/CoLRev-Environment/colrev\n",
    "code -a /workspaces/colrev"
   ]
  },
  {
   "cell_type": "markdown",
   "id": "50b15a38",
   "metadata": {},
   "source": [
    "<p style=\"max-width: 800px; margin-left: 0; margin-right: 0; text-align: justify;\">After the restart of your Codespace, complete the setup.</p>\n",
    "\n",
    "<p style=\"max-width: 800px; margin-left: 0; margin-right: 0; text-align: justify;\">The <b>colrev</b> repository should now be displayed in the Explorer (on the left).</p>"
   ]
  },
  {
   "cell_type": "code",
   "execution_count": null,
   "id": "085a0fb5",
   "metadata": {
    "vscode": {
     "languageId": "plaintext"
    }
   },
   "outputs": [],
   "source": [
    "cd /workspaces/colrev\n",
    "git checkout 108d278e8d01a65c5128c4a880247f0272896059\n",
    "git switch -c quality_model_docs\n",
    "# Remove the origin for better readability of the Git viewer\n",
    "git remote remove origin"
   ]
  },
  {
   "cell_type": "markdown",
   "id": "833d6242",
   "metadata": {},
   "source": [
    "<p style=\"max-width: 800px; margin-left: 0; margin-right: 0; text-align: justify;\"><b>Task</b>: Go through the following options, and run the commands. Take notes on the Git graph, i.e., the structure and IDs of commits, by completing the three Git graphs (you can open the page as a <a href=\"img/overview-task.pdf\">PDF</a>):</p>\n",
    "\n",
    "<img src=\"img/overview-task.png\" width=\"800\"/>\n",
    "\n",
    "<p style=\"max-width: 800px; margin-left: 0; margin-right: 0; text-align: justify;\">To analyze the specific changes, open the Git GUI:</p>\n",
    "\n",
    "<img src=\"img/codespace-git-viewer-rebase.png\" width=\"800\"/>"
   ]
  },
  {
   "cell_type": "markdown",
   "id": "1d5cbc19",
   "metadata": {},
   "source": [
    "### Option 1: Merge commit"
   ]
  },
  {
   "cell_type": "code",
   "execution_count": null,
   "id": "671c1ca0",
   "metadata": {
    "vscode": {
     "languageId": "plaintext"
    }
   },
   "outputs": [],
   "source": [
    "git switch main\n",
    "git reset --hard  6f4299bdb0551c680a97dbe04b39dee51bcd0556\n",
    "git merge quality_model_docs"
   ]
  },
  {
   "cell_type": "markdown",
   "id": "90551a6c",
   "metadata": {},
   "source": [
    "<p style=\"max-width: 800px; margin-left: 0; margin-right: 0; text-align: justify;\">Wait until the Git viewer is refreshed to display the merge commit and extract the commit SHAs.</p>"
   ]
  },
  {
   "cell_type": "markdown",
   "id": "305c34dc",
   "metadata": {},
   "source": [
    "### Option 2: Rebase"
   ]
  },
  {
   "cell_type": "code",
   "execution_count": null,
   "id": "bbc9c9ae",
   "metadata": {
    "vscode": {
     "languageId": "plaintext"
    }
   },
   "outputs": [],
   "source": [
    "git switch main\n",
    "git reset --hard  6f4299bdb0551c680a97dbe04b39dee51bcd0556\n",
    "git switch quality_model_docs\n",
    "git rebase main\n",
    "git switch main\n",
    "git merge quality_model_docs"
   ]
  },
  {
   "cell_type": "markdown",
   "id": "02010835",
   "metadata": {},
   "source": [
    "### Option 3: Squash"
   ]
  },
  {
   "cell_type": "code",
   "execution_count": null,
   "id": "7b9b2e14",
   "metadata": {
    "vscode": {
     "languageId": "plaintext"
    }
   },
   "outputs": [],
   "source": [
    "git switch main\n",
    "git reset --hard  6f4299bdb0551c680a97dbe04b39dee51bcd0556\n",
    "git merge --squash quality_model_docs\n",
    "git commit -n -m 'update docs for quality_model'"
   ]
  },
  {
   "cell_type": "markdown",
   "id": "ad3ef0a1",
   "metadata": {},
   "source": [
    "<p style=\"max-width: 800px; margin-left: 0; margin-right: 0; text-align: justify;\"><b>Task</b>: Compare the three Git graphs and the commit IDs. What are the differences between the three methods in terms of the contents of commits and their metadata?</p>\n",
    "\n",
    "<details><summary {style='color:green;font-weight:bold'}>Check</summary>\n",
    "\n",
    "<p style=\"max-width: 800px; margin-left: 0; margin-right: 0; text-align: justify;\"><b>Solution</b></p>\n",
    "\n",
    "<p style=\"max-width: 800px; margin-left: 0; margin-right: 0; text-align: justify;\">- In method 1 (merge commit), there is one merge commit with two predecessors.</p>\n",
    "<p style=\"max-width: 800px; margin-left: 0; margin-right: 0; text-align: justify;\">- In method 2 (rebase), the individual commits from the quality branch are \"replayed\" on top of the main branch.</p>\n",
    "<p style=\"max-width: 800px; margin-left: 0; margin-right: 0; text-align: justify;\">- In method 3 (squash), all changes from the original quality branch are combined in a single commit, which is added on top of the main branch.</p>\n",
    "<p style=\"max-width: 800px; margin-left: 0; margin-right: 0; text-align: justify;\">- The contents of the last commit are identical across all three methods.</p>\n",
    "<p style=\"max-width: 800px; margin-left: 0; margin-right: 0; text-align: justify;\">- Each of the new commits has your account as the author, and the current date.</p>\n",
    "\n",
    "<p style=\"max-width: 800px; margin-left: 0; margin-right: 0; text-align: justify;\">Note: All three methods change the state of the `main` branch. None changes the state of the `quality` branch. The commit-IDs in your solution will differ.</p>\n",
    "\n",
    "<img src=\"img/overview-task_solution.png\" width=\"800\"/>\n",
    "\n",
    "</details>"
   ]
  },
  {
   "cell_type": "markdown",
   "id": "28cad4dc",
   "metadata": {},
   "source": [
    "<p style=\"max-width: 800px; margin-left: 0; margin-right: 0; text-align: justify;\"><b>Question</b>: Why does the merge commit always have a different ID if another student creates it or if you run the same commands a few seconds later?</p>\n",
    "\n",
    "<details><summary {style='color:green;font-weight:bold'}>Check</summary>\n",
    "\n",
    "<p style=\"max-width: 800px; margin-left: 0; margin-right: 0; text-align: justify;\"><b>Answer</b></p>\n",
    "\n",
    "<p style=\"max-width: 800px; margin-left: 0; margin-right: 0; text-align: justify;\">The commit object always contains the commit author and date. If they are different, Git generates a different commit SHA from the content and metadata.</p>\n",
    "\n",
    "</details>"
   ]
  },
  {
   "cell_type": "markdown",
   "id": "c0df16ec",
   "metadata": {},
   "source": [
    "<p style=\"max-width: 800px; margin-left: 0; margin-right: 0; text-align: justify;\"><b>Note</b>: You can use the merge methods in a Codespace environment (as you just did), in a local Git repository, and even online on GitHub:</p>\n",
    "\n",
    "<img src=\"img/pull-request-options.png\" width=\"800\"/>"
   ]
  },
  {
   "cell_type": "markdown",
   "id": "9e7d4afe",
   "metadata": {},
   "source": [
    "## Wrap-up  <a id=\"wrap-up\"></a>\n",
    "\n",
    "<div style=\"max-width: 800px; margin-left: 0; margin-right: 0; text-align: justify;\">\n",
    "\n",
    "\n",
    "<p>🎉🎈 You have completed the Git branching notebook - good work! 🎈🎉</p>\n",
    "\n",
    "<p>In this notebook, we have learned</p>\n",
    "\n",
    "<ul>\n",
    "<li>To create a given Git graph using the <code>git commit</code>, <code>git branch</code>, <code>git switch</code>, and <code>git merge</code> commands</li>\n",
    "<li>To explain typical branching strategies</li>\n",
    "<li>The differences between merge commits, rebases, and squashed merges</li>\n",
    "</ul>\n",
    "\n",
    "</div>\n"
   ]
  }
 ],
 "metadata": {
  "kernelspec": {
   "display_name": "Python 3 (ipykernel)",
   "language": "python",
   "name": "python3"
  },
  "language_info": {
   "codemirror_mode": {
    "name": "ipython",
    "version": 3
   },
   "file_extension": ".py",
   "mimetype": "text/x-python",
   "name": "python",
   "nbconvert_exporter": "python",
   "pygments_lexer": "ipython3",
   "version": "3.9.20"
  }
 },
 "nbformat": 4,
 "nbformat_minor": 5
}
