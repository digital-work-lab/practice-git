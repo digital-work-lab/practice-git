{
 "cells": [
  {
   "cell_type": "markdown",
   "id": "0ff7b136",
   "metadata": {},
   "source": [
    "# How to: Codespaces\n",
    "\n",
    "[![Offered by: Digital Work at Otto-Friedrich-Universität Bamberg](https://img.shields.io/badge/Offered%20by-%20Digital%20Work%20(Otto--Friedrich--Universit%C3%A4t%20Bamberg)-blue)](https://digital-work-lab.github.io/open-source-project/)\n",
    "![License: CC BY 4.0](https://img.shields.io/badge/License-CC%20BY%204.0-green.svg)\n",
    "\n",
    "We  <img src=\"img/iconmonstr-favorite-2.svg\" alt=\"Edit\" width=\"12\" height=\"12\">  your <a href=\"https://github.com/digital-work-lab/practice-git/issues/new/choose\" target=\"_blank\">feedback</a> and <a href=\"https://github.com/digital-work-lab/practice-git/edit/main/notebooks/git_committing.ipynb\" target=\"_blank\">suggestions</a> on this notebook!\n",
    "\n",
    "---"
   ]
  },
  {
   "cell_type": "markdown",
   "id": "73e5334c",
   "metadata": {},
   "source": [
    "With this notebook, we briefly explain how to work with GitHub Codespaces.\n",
    "\n",
    "| Part | Label                                 |\n",
    "|------|---------------------------------------|\n",
    "|  1   | [GitHub account](#account)            |\n",
    "|  2   | [Start](#start)                       |\n",
    "|  3   | [Stop](#stop)                         |\n",
    "|  4   | [Delete](#delete)                     |\n",
    "\n",
    "<br>\n",
    "\n",
    "---"
   ]
  },
  {
   "cell_type": "markdown",
   "id": "c86afbae",
   "metadata": {},
   "source": [
    "## GitHub account <a id=\"account\"></a>\n",
    "\n",
    "For the tutorials and the project, you will need a GitHub account (you may also consider appyling for [GitHub's Student Developer Pack](https://docs.github.com/en/education/explore-the-benefits-of-teaching-and-learning-with-github-education/github-education-for-students/apply-to-github-education-as-a-student))\n",
    "\n",
    "<img src=\"img/github-signup.png\" width=\"800\"/>"
   ]
  },
  {
   "cell_type": "markdown",
   "id": "1c129887",
   "metadata": {},
   "source": [
    "## Start a Codespace <a id=\"delete\"></a>\n",
    "\n",
    "There are several ways to start a Codespace.\n",
    "\n",
    "One is through a direct link like this one (the repository is already pre-selected in the URL):\n",
    "\n",
    "[![Open in GitHub Codespaces](https://github.com/codespaces/badge.svg)](https://github.com/codespaces/new?repo=digital-work-lab/practice-git)\n",
    "\n",
    "Another is to start the Codespace directly from the repository:\n",
    "\n",
    "<img src=\"img/codessapce-start.gif\" width=\"800\"/>"
   ]
  },
  {
   "cell_type": "markdown",
   "id": "29826224",
   "metadata": {},
   "source": [
    "## Stop a Codespace <a id=\"delete\"></a>\n",
    "\n",
    "You can **stop** a Codespace to stop consuming computational resources but **keep the data** via the [Codespaces overview](https://github.com/codespaces):\n",
    "\n",
    "<img src=\"img/codespace-stop.png\" width=\"800\"/>"
   ]
  },
  {
   "cell_type": "markdown",
   "id": "7a561341",
   "metadata": {},
   "source": [
    "## Delete a Codespace <a id=\"delete\"></a>\n",
    "\n",
    "You can **delete** a Codespace to stop consuming computational resources and **remove all data** via the [Codespaces overview](https://github.com/codespaces):\n",
    "\n",
    "<img src=\"img/codespace-delete.png\" width=\"800\"/>"
   ]
  }
 ],
 "metadata": {
  "kernelspec": {
   "display_name": "Python 3 (ipykernel)",
   "language": "python",
   "name": "python3"
  },
  "language_info": {
   "codemirror_mode": {
    "name": "ipython",
    "version": 3
   },
   "file_extension": ".py",
   "mimetype": "text/x-python",
   "name": "python",
   "nbconvert_exporter": "python",
   "pygments_lexer": "ipython3",
   "version": "3.9.20"
  }
 },
 "nbformat": 4,
 "nbformat_minor": 5
}
